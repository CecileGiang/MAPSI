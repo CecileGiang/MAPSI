{
 "cells": [
  {
   "cell_type": "markdown",
   "metadata": {},
   "source": [
    "## Etudiante: GIANG Phuong-Thu, Cécile (3530406)"
   ]
  },
  {
   "cell_type": "markdown",
   "metadata": {},
   "source": [
    "# TME sur la classification de lettres manuscrites\n",
    "## Format des données\n",
    "Nous travaillerons sur des lettres manuscrites.\n",
    "Les données sont fournies au format pickle (le standard de sérialisation python, particulièrement convivial). Pour les charger : "
   ]
  },
  {
   "cell_type": "code",
   "execution_count": 1,
   "metadata": {},
   "outputs": [],
   "source": [
    "import numpy as np\n",
    "import pickle as pkl\n",
    "import matplotlib.pyplot as plt\n",
    "\n",
    "with open('ressources/lettres.pkl', 'rb') as f:\n",
    "    data = pkl.load(f, encoding='latin1') \n",
    "X = np.array(data.get('letters')) # récupération des données sur les lettres\n",
    "Y = np.array(data.get('labels')) # récupération des étiquettes associées "
   ]
  },
  {
   "cell_type": "markdown",
   "metadata": {},
   "source": [
    "Les données sont dans un format original: une lettre est en fait une série d'angles (exprimés en degrés). Un exemple: "
   ]
  },
  {
   "cell_type": "code",
   "execution_count": 2,
   "metadata": {},
   "outputs": [
    {
     "data": {
      "text/plain": [
       "array([ 36.214493, 347.719116, 322.088898, 312.230957, 314.851013,\n",
       "       315.487213, 313.556702, 326.534973, 141.288971, 167.606689,\n",
       "       199.321594, 217.911087, 226.443298, 235.002472, 252.354492,\n",
       "       270.045654, 291.665161, 350.934723,  17.892815,  20.281025,\n",
       "        28.207161,  43.883423,  53.459026])"
      ]
     },
     "execution_count": 2,
     "metadata": {},
     "output_type": "execute_result"
    }
   ],
   "source": [
    "X[0]"
   ]
  },
  {
   "cell_type": "markdown",
   "metadata": {},
   "source": [
    "Lors de l'acquisition, un stylo intelligent a pris des mesures régulièrement dans le temps: chaque période correspond à un segment de droite et le stylo a calculé l'angle entre deux segments consécutifs... C'est l'information qui vous est fournie.\n",
    "\n",
    "Pour afficher une lettre, il faut reconstruire la trajectoire enregistrée... C'est ce que fait la méthode ci-dessous: "
   ]
  },
  {
   "cell_type": "code",
   "execution_count": 3,
   "metadata": {},
   "outputs": [],
   "source": [
    "# affichage d'une lettre\n",
    "def tracerLettre(let):\n",
    "    a = -let*np.pi/180; # conversion en rad\n",
    "    coord = np.array([[0, 0]]); # point initial\n",
    "    for i in range(len(a)):\n",
    "        x = np.array([[1, 0]]);\n",
    "        rot = np.array([[np.cos(a[i]), -np.sin(a[i])],[ np.sin(a[i]),np.cos(a[i])]])\n",
    "        xr = x.dot(rot) # application de la rotation\n",
    "        coord = np.vstack((coord,xr+coord[-1,:]))\n",
    "    plt.figure()\n",
    "    plt.plot(coord[:,0],coord[:,1])\n",
    "    #plt.savefig(\"exlettre.png\")\n",
    "    return"
   ]
  },
  {
   "cell_type": "code",
   "execution_count": 4,
   "metadata": {},
   "outputs": [
    {
     "name": "stdout",
     "output_type": "stream",
     "text": [
      "a\n"
     ]
    },
    {
     "data": {
      "image/png": "[encoded data removed]",
      "text/plain": [
       "<Figure size 432x288 with 1 Axes>"
      ]
     },
     "metadata": {
      "needs_background": "light"
     },
     "output_type": "display_data"
    }
   ],
   "source": [
    "# il s'agit d'un 'a'\n",
    "tracerLettre(X[0])\n",
    "print(Y[0]) # vérification de l'étiquette"
   ]
  },
  {
   "cell_type": "markdown",
   "metadata": {},
   "source": [
    "## A. Apprentissage d'un modèle CM (max de vraisemblance)\n",
    "### A1. Discrétisation\n",
    "\n",
    "**1 état = 1 angle**\n",
    "\n",
    "Il est nécessaire de regrouper les angles en un nombre fini d'états (par exemple 20)\n",
    "- définir un `intervalle = 360 / n_etats` (18° si on choisit 20 états)\n",
    "- discrétiser tous les signaux à l'aide de la formule `np.floor(x / intervalle)`\n",
    "    - si n_etats = 20 alors [0, 18[ => 0, [18, 36[ => 1, etc...\n",
    "\n",
    "Donner le code de la méthode `discretise(x, d)` qui prend la base des signaux et retourne une base de signaux discrétisés."
   ]
  },
  {
   "cell_type": "code",
   "execution_count": 24,
   "metadata": {},
   "outputs": [],
   "source": [
    "def discretise(x, d):\n",
    "    \"\"\" Etant donné un ensemble de signaux x, retourne la base x discrétisée, i.e. retourne x sur la base de d états, \n",
    "        chaque état correspondant à un intervalle [x, x + intervalle[ avec intervalle = 360/d.\n",
    "        @param x: float array x array, base des signaux à discrétiser\n",
    "        @param d: int, nombre d'états considérés\n",
    "        @return x_d: np.array x array, base des signaux x discrétisés\n",
    "    \"\"\"\n",
    "    # -- Calcul de la taille d'un intervalle\n",
    "    intervalle = 360 / d\n",
    "    \n",
    "    # -- Initialisation de la base x_d des signaux discrétisés\n",
    "    x_d = np.empty_like(x)\n",
    "    \n",
    "    # -- Calcul de x_d\n",
    "    for i in range(len(x)):\n",
    "        x_d[i] = np.floor(x[i] / intervalle)\n",
    "        \n",
    "    return x_d"
   ]
  },
  {
   "cell_type": "markdown",
   "metadata": {},
   "source": [
    "**VALIDATION :** code du premier signal avec une discrétisation sur 3 états:\n",
    "```python\n",
    "array([ 0.,  2.,  2.,  2.,  2.,  2.,  2.,  2.,  1.,  1.,  1.,  1., 1., 1., 2., 2.,  2.,\n",
    "       2.,  0.,  0.,  0.,  0.,  0.])\n",
    "```"
   ]
  },
  {
   "cell_type": "markdown",
   "metadata": {},
   "source": [
    "**Vérification des résultats:**"
   ]
  },
  {
   "cell_type": "code",
   "execution_count": 27,
   "metadata": {
    "scrolled": true
   },
   "outputs": [
    {
     "data": {
      "text/plain": [
       "array([0., 2., 2., 2., 2., 2., 2., 2., 1., 1., 1., 1., 1., 1., 2., 2., 2.,\n",
       "       2., 0., 0., 0., 0., 0.])"
      ]
     },
     "execution_count": 27,
     "metadata": {},
     "output_type": "execute_result"
    }
   ],
   "source": [
    "discretise(X[0], 3)"
   ]
  },
  {
   "cell_type": "markdown",
   "metadata": {},
   "source": [
    "Nous obtenons bien le résultat attendu."
   ]
  },
  {
   "cell_type": "markdown",
   "metadata": {},
   "source": [
    "### A2. Regrouper les indices des signaux par classe (pour faciliter l'apprentissage)"
   ]
  },
  {
   "cell_type": "code",
   "execution_count": 28,
   "metadata": {},
   "outputs": [],
   "source": [
    "def groupByLabel(y):\n",
    "    index = []\n",
    "    for i in np.unique(y): # pour toutes les classes\n",
    "        ind, = np.where(y == i)\n",
    "        index.append(ind)\n",
    "    return index"
   ]
  },
  {
   "cell_type": "markdown",
   "metadata": {},
   "source": [
    "Cette méthode produit simplement une structure type:\n",
    "```python\n",
    "[array([ 0,  1,  2,  3,  4,  5,  6,  7,  8,  9, 10]),\n",
    " array([11, 12, 13, 14, 15, 16, 17, 18, 19, 20, 21]),\n",
    " array([22, 23, 24, 25, 26, 27, 28, 29, 30, 31, 32]),\n",
    " array([33, 34, 35, 36, 37, 38, 39, 40, 41, 42, 43]),\n",
    " array([44, 45, 46, 47, 48, 49, 50, 51, 52, 53, 54]),\n",
    " array([55, 56, 57, 58, 59, 60, 61, 62, 63, 64, 65]),\n",
    " ...\n",
    "```\n",
    "Chaque ligne regroupe les indices de signaux correspondant à une classe. Il y a donc 11 exemples de 'a'."
   ]
  },
  {
   "cell_type": "markdown",
   "metadata": {},
   "source": [
    "**Vérification avec la donnée Y des étiquettes:**"
   ]
  },
  {
   "cell_type": "code",
   "execution_count": 43,
   "metadata": {},
   "outputs": [
    {
     "data": {
      "text/plain": [
       "[array([ 0,  1,  2,  3,  4,  5,  6,  7,  8,  9, 10], dtype=int64),\n",
       " array([11, 12, 13, 14, 15, 16, 17, 18, 19, 20, 21], dtype=int64),\n",
       " array([22, 23, 24, 25, 26, 27, 28, 29, 30, 31, 32], dtype=int64),\n",
       " array([33, 34, 35, 36, 37, 38, 39, 40, 41, 42, 43], dtype=int64),\n",
       " array([44, 45, 46, 47, 48, 49, 50, 51, 52, 53, 54], dtype=int64),\n",
       " array([55, 56, 57, 58, 59, 60, 61, 62, 63, 64, 65], dtype=int64),\n",
       " array([66, 67, 68, 69, 70, 71, 72, 73, 74, 75, 76], dtype=int64),\n",
       " array([77, 78, 79, 80, 81, 82, 83, 84, 85, 86, 87], dtype=int64),\n",
       " array([88, 89, 90, 91, 92, 93, 94, 95, 96, 97], dtype=int64),\n",
       " array([ 98,  99, 100, 101, 102, 103, 104, 105, 106, 107], dtype=int64),\n",
       " array([108, 109, 110, 111, 112, 113, 114, 115, 116, 117], dtype=int64),\n",
       " array([118, 119, 120, 121, 122, 123, 124, 125, 126, 127], dtype=int64),\n",
       " array([128, 129, 130, 131, 132, 133, 134, 135, 136, 137], dtype=int64),\n",
       " array([138, 139, 140, 141, 142, 143, 144, 145, 146, 147], dtype=int64),\n",
       " array([148, 149, 150, 151, 152, 153, 154, 155, 156, 157], dtype=int64),\n",
       " array([158, 159, 160, 161, 162, 163, 164, 165, 166, 167], dtype=int64),\n",
       " array([168, 169, 170, 171, 172, 173, 174, 175, 176, 177], dtype=int64),\n",
       " array([178, 179, 180, 181, 182, 183, 184, 185, 186, 187], dtype=int64),\n",
       " array([188, 189, 190, 191, 192, 193, 194, 195, 196, 197], dtype=int64),\n",
       " array([198, 199, 200, 201, 202, 203, 204, 205, 206, 207], dtype=int64),\n",
       " array([208, 209, 210, 211, 212, 213, 214, 215, 216, 217], dtype=int64),\n",
       " array([218, 219, 220, 221, 222, 223, 224, 225, 226, 227], dtype=int64),\n",
       " array([228, 229, 230, 231, 232, 233, 234, 235, 236, 237], dtype=int64),\n",
       " array([238, 239, 240, 241, 242, 243, 244, 245, 246, 247], dtype=int64),\n",
       " array([248, 249, 250, 251, 252, 253, 254, 255, 256, 257], dtype=int64),\n",
       " array([258, 259, 260, 261, 262, 263, 264, 265, 266, 267], dtype=int64)]"
      ]
     },
     "execution_count": 43,
     "metadata": {},
     "output_type": "execute_result"
    }
   ],
   "source": [
    "groupByLabel(Y)"
   ]
  },
  {
   "cell_type": "markdown",
   "metadata": {},
   "source": [
    "### A3. Apprendre les modèles CM\n",
    "\n",
    "Soit {$X_C$} la base de signaux discrétisés correspondant à une classe {$C$} et {$d$} le nombre d'états. Donner le code de la fonction `learnMarkovModel(Xc, d)` qui retourne un tuple contenant Pi et A.\n",
    "\n",
    "Rappel:\n",
    "- Initialisation de \n",
    "```python\n",
    " A = np.zeros((d, d))\n",
    " Pi = np.zeros(d)```\n",
    "- Parcours de tous les signaux et incréments de A et Pi\n",
    "- Normalisation (un peu réfléchie pour éviter les divisions par 0)\n",
    "```python\n",
    "A = A / np.maximum(A.sum(1).reshape(d, 1), 1) # normalisation\n",
    "Pi = Pi / Pi.sum()```\n",
    "\n",
    "**Note** : la solution proposée pour gérer le cas des lignes entièrement à 0 est naïve et n'est pas totalement satisfaisante. Comprendre pourquoi. On proposera une solution améliorée plus loin dans le TME. "
   ]
  },
  {
   "cell_type": "code",
   "execution_count": 36,
   "metadata": {},
   "outputs": [],
   "source": [
    "def learnMarkovModel(Xc, d):\n",
    "    \"\"\" Etant donné Xc un signal discrétisé correspondant à une classe C et d le nombre d'états, retourne\n",
    "        un tuple contenant Pi la liste des probabilités initiales de chaque état et A la matrice de transitions.\n",
    "        @param Xc: np.array, signal discrétisé correspondant à une classe C\n",
    "        @param d: int, nombre d'états\n",
    "        @return Pi: float array, liste des probabilités initiales pour chaque état (distribution initiale)\n",
    "        @return A: float array x array, matrice de transition\n",
    "    \"\"\"\n",
    "    # -- Initialisation de A et Pi\n",
    "    A = np.zeros((d, d))\n",
    "    Pi = np.zeros(d)\n",
    "    \n",
    "    # -- Parcours de tous les signaux et incrémentation de A et Pi\n",
    "    \n",
    "    for x in Xc:\n",
    "        for k in range(len(x)-1):\n",
    "            i = int( x[k] )\n",
    "            j = int( x[k+1] )\n",
    "            A[i][j] += 1\n",
    "        \n",
    "        Pi[ int(x[0]) ] += 1\n",
    "    \n",
    "    # -- Normalisation\n",
    "    A = A / np.maximum(A.sum(1).reshape(d, 1), 1)\n",
    "    Pi = Pi / Pi.sum()\n",
    "    \n",
    "    return Pi, A"
   ]
  },
  {
   "cell_type": "markdown",
   "metadata": {},
   "source": [
    "**Validation :** premier modèle avec une discrétisation sur 3 états :\n",
    "```python\n",
    "(array([ 0.36363636,  0.        ,  0.63636364]),\n",
    " array([[ 0.84444444,  0.06666667,  0.08888889],\n",
    "       [ 0.        ,  0.83333333,  0.16666667],\n",
    "       [ 0.11382114,  0.06504065,  0.82113821]]))\n",
    "```"
   ]
  },
  {
   "cell_type": "markdown",
   "metadata": {},
   "source": [
    "**Vérification:** Testons pour le premier modèle (la lettre `a`) avec une discrétisation sur 3 états"
   ]
  },
  {
   "cell_type": "code",
   "execution_count": 47,
   "metadata": {
    "scrolled": true
   },
   "outputs": [
    {
     "data": {
      "text/plain": [
       "(array([0.36363636, 0.        , 0.63636364]),\n",
       " array([[0.84444444, 0.06666667, 0.08888889],\n",
       "        [0.        , 0.83333333, 0.16666667],\n",
       "        [0.11382114, 0.06504065, 0.82113821]]))"
      ]
     },
     "execution_count": 47,
     "metadata": {},
     "output_type": "execute_result"
    }
   ],
   "source": [
    "# -- d le nombre d'états\n",
    "d = 3\n",
    "\n",
    "# -- Xc la base de signaux discrétisés\n",
    "Xd = discretise(X, d)\n",
    "\n",
    "# -- Regroupement des signaux par classe\n",
    "index = groupByLabel(Y)\n",
    "\n",
    "# -- Apprentissage Markov\n",
    "learnMarkovModel(Xd[index[0]], d)"
   ]
  },
  {
   "cell_type": "markdown",
   "metadata": {},
   "source": [
    "### A4. Stocker les modèles dans une liste\n",
    "\n",
    "Pour un usage ultérieur plus facile, on utilise le code suivant :"
   ]
  },
  {
   "cell_type": "code",
   "execution_count": 48,
   "metadata": {},
   "outputs": [],
   "source": [
    "d = 20                   # paramètre de discrétisation\n",
    "Xd = discretise(X, d)    # application de la discrétisation\n",
    "index = groupByLabel(Y)  # groupement des signaux par classe\n",
    "models = []\n",
    "for cl in range(len(np.unique(Y))): # parcours de toutes les classes et optimisation des modèles\n",
    "    models.append(learnMarkovModel(Xd[index[cl]], d))"
   ]
  },
  {
   "cell_type": "markdown",
   "metadata": {},
   "source": [
    "### A5. Distribution stationnaire\n",
    "\n",
    "La distribution stationnaire $\\mu$, pour un système ergodique, correspond à:\n",
    "\n",
    "- la distribution des états observés dans l'ensemble des données\n",
    "- la distribution obtenu après un grand nombre de passage dans $A$ à partir de n'importe quelle distribution ou état d'origine (une matrice de transition ergodique va nous permettre de converger)\n",
    "- la solution de l'équation de stabilité: $\\mu = \\mu A$\n",
    "\n",
    "Dans le cas de la lettre 'a' et d'une discrétisation en 3 états, calculer la distribution stationnaire par les deux première méthode et vérifier que vous obtenez des résultats similaires.\n",
    "\n",
    "**Note:** pour la marche aléatoire, vous construirez une boucle sur 100 iérations (borne sup) et vous sortirez dès que la somme des écarts (en absolu) entre $\\mu_t$ et $\\mu_{t+1}$ est inférieure à $10^{-3}$. Vous vérifierez ensuite que le système converge quelque soit l'état de départ (3 appel àla fonction) ou avec une initialisation aléatoire."
   ]
  },
  {
   "cell_type": "code",
   "execution_count": 78,
   "metadata": {},
   "outputs": [],
   "source": [
    "# -- Calcul de Pi et A pour la lettre 'a' et une discrétisation en 3 états\n",
    "\n",
    "d = 3\n",
    "Xd = discretise(X, d)\n",
    "index = groupByLabel(Y)\n",
    "\n",
    "Pi, A = learnMarkovModel(Xd[index[0]], d)\n",
    "\n",
    "# --- Calcul de de la distribution stationnaire mu\n",
    "\n",
    "def distribution_stationnaire(Pi, A, nb_ite=100, mu_t=np.copy(Pi)):\n",
    "    \"\"\" Calcul de la distribution stationnaire mu à partir des probabilités de départ Pi et de la matrice de transition A.\n",
    "        @param Pi: float array, probabilités de départ pour chaque état\n",
    "        @param A: float array x array, matrice de transition\n",
    "        @return mu_2: float array, distribution stationnaire\n",
    "    \"\"\"\n",
    "    # -- Initialisation de mu_0 (mu_t) et mu_t (mu_{t+1})\n",
    "    mu_0 = np.zeros(len(Pi))\n",
    "    \n",
    "    i = 0\n",
    "    \n",
    "    while i < nb_ite and np.sum(np.abs(mu_t - mu_0)) > 0.001 :\n",
    "        mu_0 = mu_t\n",
    "        mu_t = np.dot(mu_t, A)\n",
    "        i += 1\n",
    "    \n",
    "    print(\"Nombre d'itérations avant convergence: \", i)\n",
    "    \n",
    "    return mu_t"
   ]
  },
  {
   "cell_type": "markdown",
   "metadata": {},
   "source": [
    "**Test avec pour initialisation: `mu_t = Pi`:**"
   ]
  },
  {
   "cell_type": "code",
   "execution_count": 79,
   "metadata": {
    "scrolled": true
   },
   "outputs": [
    {
     "name": "stdout",
     "output_type": "stream",
     "text": [
      "Nombre d'itérations avant convergence:  22\n"
     ]
    },
    {
     "data": {
      "text/plain": [
       "array([0.30477844, 0.28202157, 0.41319999])"
      ]
     },
     "execution_count": 79,
     "metadata": {},
     "output_type": "execute_result"
    }
   ],
   "source": [
    "distribution_stationnaire(Pi, A)"
   ]
  },
  {
   "cell_type": "markdown",
   "metadata": {},
   "source": [
    "**Tests avec initialisations aléatoires de `mu_t`:**"
   ]
  },
  {
   "cell_type": "code",
   "execution_count": 83,
   "metadata": {},
   "outputs": [
    {
     "name": "stdout",
     "output_type": "stream",
     "text": [
      "------- Test aléatoire 1 ------- \n",
      "\n",
      "\n",
      "mu =  [0.36911035 0.00800456 0.7299495 ]\n",
      "Nombre d'itérations avant convergence:  23\n",
      "\n",
      "Distribution stationnaire: \n",
      " [0.33693066 0.31244145 0.4576923 ]\n",
      "\n",
      "\n",
      "------- Test aléatoire 2 ------- \n",
      "\n",
      "\n",
      "mu =  [0.14483727 0.43758563 0.3863699 ]\n",
      "Nombre d'itérations avant convergence:  21\n",
      "\n",
      "Distribution stationnaire: \n",
      " [0.29214462 0.27459967 0.4020485 ]\n"
     ]
    }
   ],
   "source": [
    "### ------- Premier test aléatoire\n",
    "\n",
    "print('------- Test aléatoire 1 ------- \\n\\n')\n",
    "\n",
    "mu_1 = np.random.rand(len(Pi))\n",
    "print('mu = ', mu_1)\n",
    "print('\\nDistribution stationnaire: \\n', distribution_stationnaire(Pi, A, mu_t = mu_1))\n",
    "\n",
    "\n",
    "### ------- Deuxième test aléatoire\n",
    "\n",
    "print('\\n\\n------- Test aléatoire 2 ------- \\n\\n')\n",
    "\n",
    "mu_2 = np.random.rand(len(Pi))\n",
    "print('mu = ', mu_2)\n",
    "print('\\nDistribution stationnaire: \\n', distribution_stationnaire(Pi, A, mu_t = mu_2))"
   ]
  },
  {
   "cell_type": "markdown",
   "metadata": {},
   "source": [
    "**Observations:**\n",
    "\n",
    "Nous remarquons que même en initialisant les probabilités initiales `Pi` de manière aléatoire, nous convergeons vers une distribution stationnaire assez proche de la distribution obtenue avec `mu = Pi`.\n",
    "\n",
    "Nous retrouvons ainsi une propriété d'une chaîne de Markov ergodique: une chaîne de Markov est ergodique si `Pi_n` converge, indépendamment de `Pi_0` (la distribution initiale)."
   ]
  },
  {
   "cell_type": "markdown",
   "metadata": {},
   "source": [
    "##  B. Test (affectation dans les classes sur critère MV)\n",
    "### B1. (log)Probabilité d'une séquence dans un modèle\n",
    "\n",
    "Donner le code de la méthode `probaSequence(s,Pi,A)` qui retourne la log-probabilité d'une séquence `s` dans le modèle {$\\lambda=\\{Pi,A\\}$} "
   ]
  },
  {
   "cell_type": "code",
   "execution_count": 106,
   "metadata": {},
   "outputs": [],
   "source": [
    "def probaSequence(s, Pi, A):\n",
    "    \"\"\" Retourne la log-probabilité d'une séquence s dans le modèle lambda = {Pi, A}.\n",
    "        @param s: float array, séquence\n",
    "        @param Pi: float array, probabilités initiales de chaque état\n",
    "        @param A: float array x array, matrice de transition\n",
    "        @return p: float array, la log-probabilité de la séquence s dans le modèle {Pi, A}\n",
    "    \"\"\"\n",
    "    p = Pi[int(s[0])]\n",
    "    \n",
    "    for i in range(len(s)-1):\n",
    "        p *= A[ int(s[i]), int(s[i+1]) ]\n",
    "        \n",
    "    return np.log(p)"
   ]
  },
  {
   "cell_type": "markdown",
   "metadata": {},
   "source": [
    "**VALIDATION :** probabilité du premier signal dans les 26 modèles avec une discrétisation sur 3 états :\n",
    "```python\n",
    "array([-13.491086  ,         -inf,         -inf,         -inf,\n",
    "               -inf,         -inf,         -inf,         -inf,\n",
    "               -inf,         -inf,         -inf,         -inf,\n",
    "               -inf,         -inf,         -inf,         -inf,\n",
    "               -inf,         -inf,         -inf,         -inf,\n",
    "               -inf,         -inf,         -inf,         -inf,\n",
    "               -inf, -12.48285678])\n",
    "```\n",
    "\n",
    "- Ce signal est-il bien classé ?\n",
    "- D'où viennent tous les `-inf` ? "
   ]
  },
  {
   "cell_type": "markdown",
   "metadata": {},
   "source": [
    "**Vérification pour le 1er signal avec une discrétisation sur 3 états:**"
   ]
  },
  {
   "cell_type": "code",
   "execution_count": 112,
   "metadata": {},
   "outputs": [
    {
     "name": "stdout",
     "output_type": "stream",
     "text": [
      "[-13.491086           -inf         -inf         -inf         -inf\n",
      "         -inf         -inf         -inf         -inf         -inf\n",
      "         -inf         -inf         -inf         -inf         -inf\n",
      "         -inf         -inf         -inf         -inf         -inf\n",
      "         -inf         -inf         -inf         -inf         -inf\n",
      " -12.48285678]\n"
     ]
    },
    {
     "name": "stderr",
     "output_type": "stream",
     "text": [
      "<ipython-input-106-22acc3392aed>:13: RuntimeWarning: divide by zero encountered in log\n",
      "  return np.log(p)\n"
     ]
    }
   ],
   "source": [
    "# -- Calcul des log-probabilités pour le 1er signal et une discrétisation en 3 états\n",
    "\n",
    "d=3\n",
    "\n",
    "# -- Liste des log-probabilités\n",
    "log_probas = []\n",
    "\n",
    "for Pi, A in models:\n",
    "    log_probas.append(probaSequence(discretise(X,d)[0], Pi, A))\n",
    "\n",
    "print(np.array(log_probas))"
   ]
  },
  {
   "cell_type": "code",
   "execution_count": 115,
   "metadata": {},
   "outputs": [
    {
     "name": "stdout",
     "output_type": "stream",
     "text": [
      "Par maximum de vraisemblance, la lettre 'a' est classée dans la classe des lettres ' z '\n"
     ]
    },
    {
     "data": {
      "image/png": "[encoded data removed]",
      "text/plain": [
       "<Figure size 432x288 with 1 Axes>"
      ]
     },
     "metadata": {
      "needs_background": "light"
     },
     "output_type": "display_data"
    }
   ],
   "source": [
    "# -- Affichage de la lettre correspondant au 1er signal\n",
    "\n",
    "tracerLettre(X[0])\n",
    "\n",
    "# -- Affichage de la lettre obtenue par maximum de vraisemblance:\n",
    "\n",
    "alphabet = {0:'a', 1:'b', 2:'c', 3:'d', 4:'e', 5:'f', 6:'g', 7:'h', 8:'i', 9:'j', 10:'k', 11:'l', 12:'m', \n",
    "            13:'n', 14:'o', 15:'p', 16:'q', 17:'r', 18:'s', 19:'t', 20:'u', 21:'v', 22:'w', 23:'x', 24:'y', 25:'z'}\n",
    "\n",
    "print('Par maximum de vraisemblance, la lettre \\'a\\' est classée dans la classe des lettres \\'', alphabet[np.argmax(log_probas)] ,'\\'')"
   ]
  },
  {
   "cell_type": "markdown",
   "metadata": {},
   "source": [
    "**Observations:**\n",
    "\n",
    "Nous obtenons bien les log-probabilités obtenues. Cependant, le 1er signal, qui correspond à la lettre `a` d'après l'affichage, est classé comme lettre `z` par maximum de vraisemblance...\n",
    "On obtient donc une **mauvaise classification**."
   ]
  },
  {
   "cell_type": "markdown",
   "metadata": {},
   "source": [
    "### B2. Application de la méthode précédente pour tous les signaux et tous les modèles de lettres\n",
    "\n",
    "L'application se fait en une ligne de code si vous avez respecté les spécifications précédentes : "
   ]
  },
  {
   "cell_type": "code",
   "execution_count": 117,
   "metadata": {
    "scrolled": true
   },
   "outputs": [
    {
     "name": "stdout",
     "output_type": "stream",
     "text": [
      "[[-13.491086   -10.38325849 -10.70816592 ... -18.3696345  -13.74527613\n",
      "  -20.59178751]\n",
      " [        -inf         -inf         -inf ...         -inf         -inf\n",
      "          -inf]\n",
      " [        -inf         -inf         -inf ...         -inf         -inf\n",
      "          -inf]\n",
      " ...\n",
      " [        -inf         -inf         -inf ...         -inf         -inf\n",
      "          -inf]\n",
      " [        -inf         -inf         -inf ...         -inf         -inf\n",
      "          -inf]\n",
      " [-12.48285678         -inf         -inf ... -14.76870842 -11.9972425\n",
      "  -17.91075189]]\n"
     ]
    },
    {
     "name": "stderr",
     "output_type": "stream",
     "text": [
      "<ipython-input-106-22acc3392aed>:13: RuntimeWarning: divide by zero encountered in log\n",
      "  return np.log(p)\n"
     ]
    }
   ],
   "source": [
    "proba = np.array([[probaSequence(Xd[i], models[cl][0], models[cl][1]) for i in range(len(Xd))]\n",
    "                  for cl in range(len(np.unique(Y)))])\n",
    "\n",
    "print(proba)"
   ]
  },
  {
   "cell_type": "markdown",
   "metadata": {},
   "source": [
    "### B3. Evaluation des performances\n",
    "\n",
    "Pour l'évaluation, nous proposons l'approche suivante: "
   ]
  },
  {
   "cell_type": "code",
   "execution_count": null,
   "metadata": {},
   "outputs": [],
   "source": [
    "# calcul d'une version numérique des Y :\n",
    "Ynum = np.zeros(Y.shape)\n",
    "for num, char in enumerate(np.unique(Y)):\n",
    "    Ynum[Y == char] = num\n",
    "    \n",
    "# Calcul de la classe la plus probable :\n",
    "pred = proba.argmax(0) # max colonne par colonne\n",
    "\n",
    "# Calcul d'un pourcentage de bonne classification :\n",
    "np.where(pred != Ynum, 0.,1.).mean()"
   ]
  },
  {
   "cell_type": "markdown",
   "metadata": {},
   "source": [
    "**INDICE DE PERFORMANCE :** 91% de bonne classification avec 20 états, 69% avec 3 états"
   ]
  },
  {
   "cell_type": "markdown",
   "metadata": {},
   "source": [
    "**Vérification du taux de classification avec 3 états:**"
   ]
  },
  {
   "cell_type": "code",
   "execution_count": 127,
   "metadata": {},
   "outputs": [
    {
     "data": {
      "text/plain": [
       "0.6902985074626866"
      ]
     },
     "execution_count": 127,
     "metadata": {},
     "output_type": "execute_result"
    }
   ],
   "source": [
    "# calcul d'une version numérique des Y :\n",
    "Ynum = np.zeros(Y.shape)\n",
    "for num, char in enumerate(np.unique(Y)):\n",
    "    Ynum[Y == char] = num\n",
    "    \n",
    "# Calcul de la classe la plus probable :\n",
    "pred = proba.argmax(0) # max colonne par colonne\n",
    "\n",
    "# Calcul d'un pourcentage de bonne classification :\n",
    "np.where(pred != Ynum, 0.,1.).mean()"
   ]
  },
  {
   "cell_type": "markdown",
   "metadata": {},
   "source": [
    "**Vérification du taux de classification avec 20 états:**"
   ]
  },
  {
   "cell_type": "code",
   "execution_count": 128,
   "metadata": {},
   "outputs": [
    {
     "name": "stderr",
     "output_type": "stream",
     "text": [
      "<ipython-input-106-22acc3392aed>:13: RuntimeWarning: divide by zero encountered in log\n",
      "  return np.log(p)\n"
     ]
    },
    {
     "data": {
      "text/plain": [
       "0.914179104477612"
      ]
     },
     "execution_count": 128,
     "metadata": {},
     "output_type": "execute_result"
    }
   ],
   "source": [
    "# --- Discrétisation en 20 états\n",
    "\n",
    "d = 20                   # paramètre de discrétisation\n",
    "Xd = discretise(X, d)    # application de la discrétisation\n",
    "index = groupByLabel(Y)  # groupement des signaux par classe\n",
    "\n",
    "models = []\n",
    "for cl in range(len(np.unique(Y))): # parcours de toutes les classes et optimisation des modèles\n",
    "    models.append(learnMarkovModel(Xd[index[cl]], d))\n",
    "\n",
    "proba = np.array([[probaSequence(Xd[i], models[cl][0], models[cl][1]) for i in range(len(Xd))]\n",
    "                  for cl in range(len(np.unique(Y)))])\n",
    "\n",
    "# calcul d'une version numérique des Y :\n",
    "Ynum = np.zeros(Y.shape)\n",
    "for num, char in enumerate(np.unique(Y)):\n",
    "    Ynum[Y == char] = num\n",
    "    \n",
    "# Calcul de la classe la plus probable :\n",
    "pred = proba.argmax(0) # max colonne par colonne\n",
    "\n",
    "# Calcul d'un pourcentage de bonne classification :\n",
    "np.where(pred != Ynum, 0.,1.).mean()"
   ]
  },
  {
   "cell_type": "markdown",
   "metadata": {},
   "source": [
    "**Observations:**\n",
    "\n",
    "Nous obtenons bien les taux de classification attendus, soit environ 69% de bonne classifcation avec 3 états, et environ 91% de bonne classification avec 20 états."
   ]
  },
  {
   "cell_type": "markdown",
   "metadata": {},
   "source": [
    "## C. Biais d'évaluation, notion de sur-apprentissage\n",
    "\n",
    "Dans le protocole précédent, nous avons triché:\n",
    "- les données servent d'abord à apprendre les modèles...\n",
    "- puis nous nous servons des mêmes données pour tester les modèles ! Les performances sont forcément bonnes ! \n",
    "\n",
    "Afin de palier le problème, nous allons diviser en deux la base de données: une partie servira à l'apprentissage des modèles, l'autre à leur évaluation. Pour effectuer la division, nous fournissons le code suivant: "
   ]
  },
  {
   "cell_type": "code",
   "execution_count": 129,
   "metadata": {},
   "outputs": [],
   "source": [
    "# separation app/test, pc=ratio de points en apprentissage\n",
    "def separeTrainTest(y, pc):\n",
    "    indTrain = []\n",
    "    indTest = []\n",
    "    for i in np.unique(y): # pour toutes les classes\n",
    "        ind, = np.where(y == i)\n",
    "        n = len(ind)\n",
    "        indTrain.append(ind[np.random.permutation(n)][:int(np.floor(pc * n))])\n",
    "        indTest.append(np.setdiff1d(ind, indTrain[-1]))\n",
    "    return indTrain, indTest\n",
    "\n",
    "# exemple d'utilisation\n",
    "itrain, itest = separeTrainTest(Y, 0.8)"
   ]
  },
  {
   "cell_type": "markdown",
   "metadata": {},
   "source": [
    "dans `itrain`, nous obtenons les indices des signaux qui doivent servir en apprentissage pour chaque classe :"
   ]
  },
  {
   "cell_type": "code",
   "execution_count": 130,
   "metadata": {},
   "outputs": [
    {
     "data": {
      "text/plain": [
       "[array([ 2,  9,  4,  1,  0,  6, 10,  7], dtype=int64),\n",
       " array([12, 21, 19, 16, 20, 18, 15, 17], dtype=int64),\n",
       " array([32, 28, 25, 31, 22, 30, 24, 27], dtype=int64),\n",
       " array([36, 35, 33, 41, 37, 40, 42, 34], dtype=int64),\n",
       " array([46, 53, 52, 51, 49, 48, 54, 47], dtype=int64),\n",
       " array([61, 63, 64, 65, 60, 55, 58, 56], dtype=int64),\n",
       " array([71, 70, 74, 75, 73, 68, 66, 69], dtype=int64),\n",
       " array([83, 85, 80, 84, 79, 81, 82, 87], dtype=int64),\n",
       " array([97, 92, 96, 95, 89, 88, 90, 91], dtype=int64),\n",
       " array([ 98, 104,  99, 103, 105, 100, 102, 101], dtype=int64),\n",
       " array([112, 113, 111, 115, 117, 109, 108, 114], dtype=int64),\n",
       " array([122, 119, 125, 127, 120, 118, 121, 124], dtype=int64),\n",
       " array([131, 132, 129, 133, 136, 128, 135, 137], dtype=int64),\n",
       " array([140, 144, 141, 146, 147, 138, 142, 139], dtype=int64),\n",
       " array([156, 149, 151, 148, 152, 150, 157, 155], dtype=int64),\n",
       " array([165, 160, 162, 166, 158, 161, 167, 163], dtype=int64),\n",
       " array([171, 177, 172, 175, 168, 173, 174, 170], dtype=int64),\n",
       " array([187, 183, 181, 180, 184, 185, 182, 178], dtype=int64),\n",
       " array([189, 192, 190, 194, 195, 193, 188, 196], dtype=int64),\n",
       " array([202, 201, 206, 205, 199, 200, 203, 198], dtype=int64),\n",
       " array([212, 213, 211, 216, 214, 217, 215, 208], dtype=int64),\n",
       " array([222, 218, 220, 227, 219, 223, 225, 224], dtype=int64),\n",
       " array([229, 234, 232, 235, 233, 228, 231, 237], dtype=int64),\n",
       " array([242, 246, 238, 247, 241, 243, 244, 240], dtype=int64),\n",
       " array([251, 257, 249, 254, 248, 255, 256, 252], dtype=int64),\n",
       " array([260, 267, 264, 258, 262, 261, 259, 263], dtype=int64)]"
      ]
     },
     "execution_count": 130,
     "metadata": {},
     "output_type": "execute_result"
    }
   ],
   "source": [
    "itrain"
   ]
  },
  {
   "cell_type": "markdown",
   "metadata": {},
   "source": [
    "**Note :** pour faciliter l'évaluation des modèles, vous aurez besoin de re-fusionner tous les indices d'apprentissage et de test. Cela se fait avec les lignes de code suivantes : "
   ]
  },
  {
   "cell_type": "code",
   "execution_count": 132,
   "metadata": {},
   "outputs": [],
   "source": [
    "# -- Liste des indices d'apprentissage ia\n",
    "ia = []\n",
    "for i in itrain:\n",
    "    ia += i.tolist()    \n",
    "    \n",
    "# -- Liste des indices de test it\n",
    "it = []\n",
    "for i in itest:\n",
    "    it += i.tolist()"
   ]
  },
  {
   "cell_type": "markdown",
   "metadata": {},
   "source": [
    "**Note 2 :** Du fait de la permutation aléatoire, les résultats vont bouger (un peu) à chaque execution du programme. "
   ]
  },
  {
   "cell_type": "markdown",
   "metadata": {},
   "source": [
    "### C1. Questions importantes\n",
    "- Ré-utiliser les fonctions précédemment définies pour apprendre des modèles et les évaluer sans biais.\n",
    "- Calculer et analyser les résultats obtenus en apprentissage et en test\n",
    "- Etudier l'évolution des performances en fonction de la discrétisation"
   ]
  },
  {
   "cell_type": "code",
   "execution_count": 150,
   "metadata": {},
   "outputs": [
    {
     "name": "stderr",
     "output_type": "stream",
     "text": [
      "<ipython-input-106-22acc3392aed>:13: RuntimeWarning: divide by zero encountered in log\n",
      "  return np.log(p)\n"
     ]
    }
   ],
   "source": [
    "# -- Séparation des données: 80% sur train et 20% sur test\n",
    "itrain, itest = separeTrainTest(Y, 0.8)\n",
    "\n",
    "\n",
    "# -- Tableaux d'indices pour entrainement et pour test\n",
    "ia = []\n",
    "for i in itrain:\n",
    "    ia += i.tolist()\n",
    "it = []\n",
    "for i in itest:\n",
    "    it += i.tolist()\n",
    "\n",
    "    \n",
    "# -- Construction des ensembles de données d'entraînement et de test en fonction des indices calculés ci-dessus\n",
    "X_train = np.array([X[i] for i in ia]) \n",
    "X_test = np.array([X[i] for i in it])\n",
    "\n",
    "Y_train = np.array([Y[i] for i in ia])\n",
    "Y_test = np.array([Y[i] for i in it])\n",
    "\n",
    "\n",
    "\n",
    "# ----------------- CALCUL DU TAUX DE BONNE CLASSIFICATION POUR UN NOMBRE D'ETATS d VARIANT DE 3 A 20 -----------------\n",
    "\n",
    "taux_bonne_classification = []\n",
    "\n",
    "for d in range(3,21):\n",
    "    \n",
    "    # application de la discrétisation\n",
    "    Xd_train = discretise(X_train, d)\n",
    "    Xd_test = discretise(X_test,d)\n",
    "\n",
    "    # groupement des signaux par classe\n",
    "    index_train = groupByLabel(Y_train)\n",
    "    index_test = groupByLabel(Y_test)\n",
    "\n",
    "    models = []\n",
    "    for cl in range(len(np.unique(Y_train))): # parcours de toutes les classes et optimisation des modèles\n",
    "        models.append(learnMarkovModel(Xd_train[index_train[cl]], d))\n",
    "        \n",
    "\n",
    "    # calcul d'une version numérique des Y :\n",
    "    Ynum = np.zeros(Y_test.shape)\n",
    "    for num, char in enumerate(np.unique(Y_test)):\n",
    "        Ynum[Y_test == char] = num\n",
    "\n",
    "        \n",
    "    proba = np.array([[probaSequence(Xd_test[i], models[cl][0], models[cl][1]) for i in range(len(Xd_test))]\n",
    "                      for cl in range(len(np.unique(Y_test)))])\n",
    "    \n",
    "    \n",
    "    # Calcul de la classe la plus probable :\n",
    "    pred = proba.argmax(0) # max colonne par colonne\n",
    "\n",
    "    # Calcul d'un pourcentage de bonne classification :\n",
    "    taux_bonne_classification.append(np.where(pred != Ynum, 0.,1.).mean())"
   ]
  },
  {
   "cell_type": "markdown",
   "metadata": {},
   "source": [
    "**Affichage des taux de bonne classification pour un nombre d'état `d` variant de 3 à 20:**"
   ]
  },
  {
   "cell_type": "code",
   "execution_count": 151,
   "metadata": {},
   "outputs": [
    {
     "name": "stdout",
     "output_type": "stream",
     "text": [
      "Taux de bonne classification...\n",
      "\t... pour d =  3  :  0.6166666666666667\n",
      "\t... pour d =  4  :  0.6333333333333333\n",
      "\t... pour d =  5  :  0.75\n",
      "\t... pour d =  6  :  0.5833333333333334\n",
      "\t... pour d =  7  :  0.5333333333333333\n",
      "\t... pour d =  8  :  0.6\n",
      "\t... pour d =  9  :  0.5166666666666667\n",
      "\t... pour d =  10  :  0.6166666666666667\n",
      "\t... pour d =  11  :  0.5833333333333334\n",
      "\t... pour d =  12  :  0.4166666666666667\n",
      "\t... pour d =  13  :  0.38333333333333336\n",
      "\t... pour d =  14  :  0.3333333333333333\n",
      "\t... pour d =  15  :  0.36666666666666664\n",
      "\t... pour d =  16  :  0.43333333333333335\n",
      "\t... pour d =  17  :  0.3\n",
      "\t... pour d =  18  :  0.31666666666666665\n",
      "\t... pour d =  19  :  0.3333333333333333\n",
      "\t... pour d =  20  :  0.25\n"
     ]
    }
   ],
   "source": [
    "print('Taux de bonne classification...')\n",
    "for d in range(3,21):\n",
    "    print('\\t... pour d = ', d, ' : ', taux_bonne_classification[d-3])"
   ]
  },
  {
   "cell_type": "markdown",
   "metadata": {},
   "source": [
    "**Observations:**\n",
    "\n",
    "Le taux de bonne classification des lettres de `X_test` diminue lorsque la taille de discrétisation `d` (le nombre d'états) augmente. Cela s'explique aisément: lorsque d augmente, la taille de notre matrice de transition augmente (taille n²), et comme nous n'avons pas assez de données, nous aurons des difficultés à trouver plusieurs cas pour chaque transition d'états (représentée par un élement de la matrice).\n",
    "\n",
    "Ainsi, les probabilités contenues dans la matrice de transition sont très petites, ce qui affecte grandement le résulat."
   ]
  },
  {
   "cell_type": "markdown",
   "metadata": {},
   "source": [
    "### C2. Lutter contre le sur-apprentissage\n",
    "Cette base de données met en lumière le phénomène de sur-apprentissage : il y a peu de données et dès que le nombre d'états augmente, il y a trop peu d'exemple pour estimer correctement les matrices {$A, \\pi$}. De nombreuses cases sont donc à 0, voire des lignes entières (d'où la sécurisation du code pour la normalisation des matrices stochastiques).\n",
    "\n",
    "Ces 0 sont particulièrement discriminants: considérant la classe {$c$}, ils permettent d'éliminer de cette classe tout signal présentant cette caractéristique. Cette règle est trop forte compte tenu de la taille de la base d'apprentissage. Nous proposons une astuce pour palier cette faiblesse : lors du comptage, initialiser les matrices {$A, \\pi$} avec ones au lieu de zeros . On fait semblant d'avoir observer une transition de chaque type avant même le début du comptage.\n",
    "\n",
    "Comparer les performances en test."
   ]
  },
  {
   "cell_type": "code",
   "execution_count": 152,
   "metadata": {},
   "outputs": [],
   "source": [
    "def learnMarkovModel_ones(Xc, d):\n",
    "    \"\"\" Etant donné Xc un signal discrétisé correspondant à une classe C et d le nombre d'états, retourne\n",
    "        un tuple contenant Pi la liste des probabilités initiales de chaque état et A la matrice de transitions.\n",
    "        Cette fois-ci, lors du comptage, nous initialisons les matrices {A, Pi} avec ones au lieu de zeros.\n",
    "        @param Xc: np.array, signal discrétisé correspondant à une classe C\n",
    "        @param d: int, nombre d'états\n",
    "        @return Pi: float array, liste des probabilités initiales pour chaque état (distribution initiale)\n",
    "        @return A: float array x array, matrice de transition\n",
    "    \"\"\"\n",
    "    # -- Initialisation de A et Pi\n",
    "    A = np.ones((d, d))\n",
    "    Pi = np.ones(d)\n",
    "    \n",
    "    # -- Parcours de tous les signaux et incrémentation de A et Pi\n",
    "    \n",
    "    for x in Xc:\n",
    "        for k in range(len(x)-1):\n",
    "            i = int( x[k] )\n",
    "            j = int( x[k+1] )\n",
    "            A[i][j] += 1\n",
    "        \n",
    "        Pi[ int(x[0]) ] += 1\n",
    "    \n",
    "    # -- Normalisation\n",
    "    A = A / np.maximum(A.sum(1).reshape(d, 1), 1)\n",
    "    Pi = Pi / Pi.sum()\n",
    "    \n",
    "    return Pi, A"
   ]
  },
  {
   "cell_type": "markdown",
   "metadata": {},
   "source": [
    "**Nous re-calculons les taux de bonne classification pour `d` variant de 3 à 20, avec notre nouvelle version de la fonction `learnMarkovModel_ones`:**"
   ]
  },
  {
   "cell_type": "code",
   "execution_count": 162,
   "metadata": {},
   "outputs": [],
   "source": [
    "# -- Séparation des données: 80% sur train et 20% sur test\n",
    "itrain, itest = separeTrainTest(Y, 0.8)\n",
    "\n",
    "\n",
    "# -- Tableaux d'indices pour entrainement et pour test\n",
    "ia = []\n",
    "for i in itrain:\n",
    "    ia += i.tolist()\n",
    "it = []\n",
    "for i in itest:\n",
    "    it += i.tolist()\n",
    "\n",
    "    \n",
    "# -- Construction des ensembles de données d'entraînement et de test en fonction des indices calculés ci-dessus\n",
    "X_train = np.array([X[i] for i in ia]) \n",
    "X_test = np.array([X[i] for i in it])\n",
    "\n",
    "Y_train = np.array([Y[i] for i in ia])\n",
    "Y_test = np.array([Y[i] for i in it])\n",
    "\n",
    "\n",
    "\n",
    "# ----------------- CALCUL DU TAUX DE BONNE CLASSIFICATION POUR UN NOMBRE D'ETATS d VARIANT DE 3 A 20 -----------------\n",
    "\n",
    "taux_bonne_classification = []\n",
    "\n",
    "for d in range(3,21):\n",
    "    \n",
    "    # application de la discrétisation\n",
    "    Xd_train = discretise(X_train, d)\n",
    "    Xd_test = discretise(X_test,d)\n",
    "\n",
    "    # groupement des signaux par classe\n",
    "    index_train = groupByLabel(Y_train)\n",
    "    index_test = groupByLabel(Y_test)\n",
    "\n",
    "    models = []\n",
    "    for cl in range(len(np.unique(Y_train))): # parcours de toutes les classes et optimisation des modèles\n",
    "        models.append(learnMarkovModel_ones(Xd_train[index_train[cl]], d))\n",
    "        \n",
    "\n",
    "    # calcul d'une version numérique des Y :\n",
    "    Ynum = np.zeros(Y_test.shape)\n",
    "    for num, char in enumerate(np.unique(Y_test)):\n",
    "        Ynum[Y_test == char] = num\n",
    "\n",
    "        \n",
    "    proba = np.array([[probaSequence(Xd_test[i], models[cl][0], models[cl][1]) for i in range(len(Xd_test))]\n",
    "                      for cl in range(len(np.unique(Y_test)))])\n",
    "    \n",
    "    \n",
    "    # Calcul de la classe la plus probable :\n",
    "    pred = proba.argmax(0) # max colonne par colonne\n",
    "\n",
    "    # Calcul d'un pourcentage de bonne classification :\n",
    "    taux_bonne_classification.append(np.where(pred != Ynum, 0.,1.).mean())"
   ]
  },
  {
   "cell_type": "markdown",
   "metadata": {},
   "source": [
    "**Affichage des taux de bonne classification pour un nombre d'état `d` variant de 3 à 20:**"
   ]
  },
  {
   "cell_type": "code",
   "execution_count": 163,
   "metadata": {},
   "outputs": [
    {
     "name": "stdout",
     "output_type": "stream",
     "text": [
      "Taux de bonne classification...\n",
      "\t... pour d =  3  :  0.5833333333333334\n",
      "\t... pour d =  4  :  0.6166666666666667\n",
      "\t... pour d =  5  :  0.6333333333333333\n",
      "\t... pour d =  6  :  0.6\n",
      "\t... pour d =  7  :  0.7166666666666667\n",
      "\t... pour d =  8  :  0.6666666666666666\n",
      "\t... pour d =  9  :  0.6666666666666666\n",
      "\t... pour d =  10  :  0.6333333333333333\n",
      "\t... pour d =  11  :  0.6\n",
      "\t... pour d =  12  :  0.6666666666666666\n",
      "\t... pour d =  13  :  0.6166666666666667\n",
      "\t... pour d =  14  :  0.7\n",
      "\t... pour d =  15  :  0.7166666666666667\n",
      "\t... pour d =  16  :  0.7166666666666667\n",
      "\t... pour d =  17  :  0.5833333333333334\n",
      "\t... pour d =  18  :  0.6666666666666666\n",
      "\t... pour d =  19  :  0.6833333333333333\n",
      "\t... pour d =  20  :  0.5833333333333334\n"
     ]
    }
   ],
   "source": [
    "print('Taux de bonne classification...')\n",
    "for d in range(3,21):\n",
    "    print('\\t... pour d = ', d, ' : ', taux_bonne_classification[d-3])"
   ]
  },
  {
   "cell_type": "markdown",
   "metadata": {},
   "source": [
    "**Observations:**\n",
    "\n",
    "Avec cette nouvelle fonction d'apprentissage markovien, nous obtenons un algorithme beaucoup plus performant lorsque la taille de la matrice de transitions augmente. Le taux de bonne classification pour des valeurs de `d` faibles diminue cependant de manière assez significative."
   ]
  },
  {
   "cell_type": "markdown",
   "metadata": {},
   "source": [
    "## D. Evaluation qualitative\n",
    "\n",
    "Nous nous demandons maintenant où se trouvent les erreurs que nous avons commises...\n",
    "\n",
    "Calcul de la matrice de confusion: pour chaque échantillon de test, nous avons une prédiction (issue du modèle) et une vérité terrain (la vraie étiquette). En posant Nc le nombre de classes, la matrice de confusion est une matrice (Nc x Nc) où nous comptons le nombre d'échantillon de test dans chaque catégorie :\n",
    "\n",
    "- Initialisation à 0 : "
   ]
  },
  {
   "cell_type": "code",
   "execution_count": 157,
   "metadata": {},
   "outputs": [],
   "source": [
    "conf = np.zeros((26,26))"
   ]
  },
  {
   "cell_type": "markdown",
   "metadata": {},
   "source": [
    "- Pour chaque échantillon, incrément de la case (prediction, vérité)"
   ]
  },
  {
   "cell_type": "code",
   "execution_count": 173,
   "metadata": {},
   "outputs": [],
   "source": [
    "# -- On fixe le nombre d'états à d = 15\n",
    "    \n",
    "# application de la discrétisation\n",
    "Xd_train = discretise(X_train, d)\n",
    "Xd_test = discretise(X_test,d)\n",
    "\n",
    "# groupement des signaux par classe\n",
    "index_train = groupByLabel(Y_train)\n",
    "index_test = groupByLabel(Y_test)\n",
    "\n",
    "models = []\n",
    "for cl in range(len(np.unique(Y_train))): # parcours de toutes les classes et optimisation des modèles\n",
    "    models.append(learnMarkovModel_ones(Xd_train[index_train[cl]], d))\n",
    "        \n",
    "\n",
    "# calcul d'une version numérique des Y :\n",
    "Ynum = np.zeros(Y_test.shape)\n",
    "for num, char in enumerate(np.unique(Y_test)):\n",
    "    Ynum[Y_test == char] = num\n",
    "\n",
    "        \n",
    "proba = np.array([[probaSequence(Xd_test[i], models[cl][0], models[cl][1]) for i in range(len(Xd_test))]\n",
    "                    for cl in range(len(np.unique(Y_test)))])\n",
    "    \n",
    "    \n",
    "# Calcul de la classe la plus probable :\n",
    "pred = proba.argmax(0) # max colonne par colonne\n",
    "\n",
    "# ------- Calcul de la matrice de confusion\n",
    "\n",
    "for i in range(len(pred)):\n",
    "    conf[int(pred[i])][int(Ynum[i])] += 1"
   ]
  },
  {
   "cell_type": "markdown",
   "metadata": {},
   "source": [
    "- Tracé de la matrice : "
   ]
  },
  {
   "cell_type": "code",
   "execution_count": 179,
   "metadata": {},
   "outputs": [
    {
     "data": {
      "image/png": "[encoded data removed]",
      "text/plain": [
       "<Figure size 432x288 with 2 Axes>"
      ]
     },
     "metadata": {
      "needs_background": "light"
     },
     "output_type": "display_data"
    }
   ],
   "source": [
    "plt.figure()\n",
    "plt.imshow(conf, interpolation = 'nearest')\n",
    "plt.colorbar()\n",
    "plt.xticks(np.arange(26), np.unique(Y))\n",
    "plt.yticks(np.arange(26), np.unique(Y))\n",
    "plt.xlabel(u'Vérité terrain')\n",
    "plt.ylabel(u'Prédiction')\n",
    "plt.savefig(\"mat_conf_lettres.png\")"
   ]
  },
  {
   "cell_type": "markdown",
   "metadata": {},
   "source": [
    "**Observations:**\n",
    "\n",
    "Comme nous nous y attendions, nous obtenons bien une figure avec une diagonale très forte (cette diagonale correspondant aux bonnes classifications)."
   ]
  },
  {
   "cell_type": "markdown",
   "metadata": {},
   "source": [
    "## E. Modèle génératif\n",
    "\n",
    "Utiliser les modèles appris pour générer de nouvelles lettres manuscrites.\n",
    "\n",
    "### E1. Tirage selon une loi de probabilité discrète\n",
    "\n",
    "- faire la somme cumulée de la loi {$sc$}\n",
    "- tirer un nombre aléatoire {$t$} entre 0 et 1\n",
    "- trouver la première valeur de {$sc$} qui est supérieure à {$t$}\n",
    "- retourner cet état \n",
    "\n",
    "**Note :** comme vu en cours, tout repose sur la somme cumulée (notée ici `sc$`, calculable en appelant `np.cumsum`. Sur un exemple: la loi `V = [0.2, 0.4, 0.3, 0.1]` a pour somme cumulée `V.cumsum() == [0.2,  0.6,  0.9,  1.0]`\n",
    "\n",
    "### E2. Génération d'une séquence de longueur N\n",
    "\n",
    "- tirer un état {$s_0$} selon Pi\n",
    "- tant que la longueur n'est pas atteinte :\n",
    "  - tirer un état {$s_{t+1}$} selon {$A[s_{t}]$} "
   ]
  },
  {
   "cell_type": "code",
   "execution_count": 193,
   "metadata": {},
   "outputs": [],
   "source": [
    "def generate(Pi, A, n):\n",
    "    \"\"\" Génère une séquence de longueur N selon Pi et A.\n",
    "        @param Pi: float array, probabilités initiales pour chaque état\n",
    "        @param A: float array x array, matrice de transitions\n",
    "        @param n: int, longueur de la séquence à générer\n",
    "    \"\"\"\n",
    "    # --- Initisalisation de la séquence s\n",
    "    s = []\n",
    "    \n",
    "    # --- Tirage de s0 = s[0] selon Pi\n",
    "    r = np.random.random()\n",
    "    sc = np.cumsum(Pi)\n",
    "    \n",
    "    i = 0\n",
    "    while r > sc[i]:\n",
    "        i += 1\n",
    "    \n",
    "    s.append(i-1) # valeur de s[0]\n",
    "    \n",
    "    \n",
    "    # -- Tant que la longueur n'est pas atteinte, tirer un état s_{t+1} selon A[s_t]\n",
    "    \n",
    "    while len(s) < n:\n",
    "        r = np.random.random()\n",
    "        sc = np.cumsum(A[s[-1]])\n",
    "\n",
    "        i = 0\n",
    "        while r > sc[i]:\n",
    "            i += 1\n",
    "\n",
    "        s.append(i-1)\n",
    "    \n",
    "    return np.array(s)"
   ]
  },
  {
   "cell_type": "markdown",
   "metadata": {},
   "source": [
    "### E3. Affichage du résultat"
   ]
  },
  {
   "cell_type": "code",
   "execution_count": 227,
   "metadata": {
    "scrolled": true
   },
   "outputs": [
    {
     "data": {
      "image/png": "[encoded data removed]",
      "text/plain": [
       "<Figure size 432x288 with 1 Axes>"
      ]
     },
     "metadata": {
      "needs_background": "light"
     },
     "output_type": "display_data"
    }
   ],
   "source": [
    "newa = generate(models[0][0], models[0][1], 20)       # generation d'une séquence d'états\n",
    "intervalle = 360. / d                                 # pour passer des états => valeur d'angles\n",
    "newa_continu = np.array([i * intervalle for i in newa]) # conv int => double\n",
    "tracerLettre(newa_continu)"
   ]
  },
  {
   "cell_type": "markdown",
   "metadata": {},
   "source": [
    "**Observations:**\n",
    "\n",
    "Hmm... On était censé avoir quelque chose qui ressemble à un 'a' ?"
   ]
  }
 ],
 "metadata": {
  "kernelspec": {
   "display_name": "Python 3",
   "language": "python",
   "name": "python3"
  },
  "language_info": {
   "codemirror_mode": {
    "name": "ipython",
    "version": 3
   },
   "file_extension": ".py",
   "mimetype": "text/x-python",
   "name": "python",
   "nbconvert_exporter": "python",
   "pygments_lexer": "ipython3",
   "version": "3.8.3"
  }
 },
 "nbformat": 4,
 "nbformat_minor": 4
}
