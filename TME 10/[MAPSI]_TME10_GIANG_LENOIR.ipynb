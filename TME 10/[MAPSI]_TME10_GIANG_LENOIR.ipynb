{
 "cells": [
  {
   "cell_type": "markdown",
   "metadata": {},
   "source": [
    "## Etudiant 1: GIANG Phuong-Thu, Cécile (3530405)\n",
    "## Etudiant 2: LENOIR Romain (3670199)"
   ]
  },
  {
   "cell_type": "markdown",
   "metadata": {},
   "source": [
    "# TME 10 : méthodes discriminantes\n",
    "\n",
    "Le but de ce TME est de comparer les approches en modélisation maximum de vraisemblance et maximum a posteriori au niveau de la modélisation même du problème dans le cas de la classification. \n",
    "\n",
    "Nous notons  les observations $\\mathbf x_i \\in \\mathbb R^d$ et les étiquettes binaires associées $y_{i} \\in \\mathcal Y = \\{0, 1\\}$.\n",
    "Nous faisons l'hypothèse que les couples $(\\mathbf x_i, y_{i})$ sont tirés de manière i.i.d. et suivent une loi inconnue $P(X,Y)$. \n",
    "\n",
    "***Résumé du max de vraisemblance:***<BR>\n",
    "1. Choix d'une modélisation $\\Theta$ pour les $\\mathbf x_i$ (par exemple une gaussienne multivariée ou une modélisation dimension par dimension selon une loi choisie en accord avec les experts du domaine).\n",
    "1. Formalisation de la vraisemblance pour un échantillon:\n",
    "$p(\\mathbf x_i | \\Theta)$\n",
    "1. Pour chaque classe $y$ (0 ou 1 dans le cas présent), optimisation de \n",
    "    $$\\Theta_y^\\star = \\arg \\max_{\\Theta} \\prod_{i \\in y} p(\\mathbf x_i | \\Theta)$$\n",
    "1. Critère de décision pour un nouvel échantillon $\\mathbf x_n$:\n",
    "    $$\\hat y_n = \\arg \\max_c p(\\mathbf x_n | \\Theta_y) $$\n",
    "\n",
    "La méthode est simple et efficace mais ne compare jamais les échantillons des différentes classes pour prendre une décision.\n",
    "\n",
    "***Idée des approches discriminantes:***<BR>\n",
    "1. Choix d'un modèle pour $p(y_i | \\mathbf x_i)$. Le modèle le plus connu est la régression logistique qui, comme le nom ne l'indique pas est un modèle de classification. C'est ce modèle que nous allons étudier:\n",
    "    $$p(y_i=1 | \\mathbf x_i) = \\frac{1}{1 + \\exp( -(  \\mathbf x_i  \\mathbf w + b))},\\qquad \\mbox{Paramètres : } \\mathbf w, b $$\n",
    "1. Dans le cas à deux classes uniquement; après avoir remarqué que nous avons choisi un codage des classes de type Bernoulli... Utilisation de l'astuce de Bernoulli pour calculer la vraisemblance d'un échantillon:\n",
    "$$ p(y_i | \\mathbf x_i) = \\left( \\frac{1}{1 + \\exp( -(  \\mathbf x_i  \\mathbf w + b))}\\right)^{y_i} \\left(1- \\frac{1}{1 + \\exp( -(  \\mathbf x_i  \\mathbf w + b))}\\right)^{1-y_i} $$\n",
    "1. Max de vraisemblance sur ***sur l'ensemble des données***:\n",
    "    $$\\mathbf w^\\star, b^\\star = \\arg \\max_{\\mathbf w, b} \\prod_{i} p(\\mathbf x_i, y_i | \\mathbf w, b) = \\arg \\max_{\\mathbf w, b} \\prod_{i} p( y_i|\\mathbf x_i, \\mathbf w, b) p(\\mathbf x_i| \\mathbf w, b)$$\n",
    "En faisant l'hypothèse que les $\\mathbf x_i$ sont équiprobables (pas de poids sur les observations):\n",
    "$$\\mathbf w^\\star, b^\\star = \\arg \\max_{\\mathbf w, b} \\prod_{i} p( y_i|\\mathbf x_i, \\mathbf w, b)$$\n"
   ]
  },
  {
   "cell_type": "markdown",
   "metadata": {},
   "source": [
    "## Chargement des librairies et des données USPS"
   ]
  },
  {
   "cell_type": "code",
   "execution_count": 324,
   "metadata": {},
   "outputs": [
    {
     "data": {
      "image/png": "[encoded data removed]",
      "text/plain": [
       "<Figure size 432x288 with 1 Axes>"
      ]
     },
     "metadata": {
      "needs_background": "light"
     },
     "output_type": "display_data"
    },
    {
     "data": {
      "image/png": "[encoded data removed]",
      "text/plain": [
       "<Figure size 432x288 with 1 Axes>"
      ]
     },
     "metadata": {
      "needs_background": "light"
     },
     "output_type": "display_data"
    }
   ],
   "source": [
    "import numpy as np\n",
    "import matplotlib.pyplot as plt\n",
    "import matplotlib.cm as cm\n",
    "\n",
    "\n",
    "def load(filename):\n",
    "    f=open(filename,'r')\n",
    "    s = f.readline() # virer la premiere ligne\n",
    "    X = np.array([[float(d) for d in lig.split()] for lig in f if len(lig)>10])\n",
    "    Y = X[:,0] # premiere colonne\n",
    "    X = X[:,1:]\n",
    "    f.close()\n",
    "    return X,Y\n",
    "\n",
    "X,Y = load('data/usps_train.txt')\n",
    "Xt,Yt = load('data/usps_test.txt')\n",
    "\n",
    "# affichage d'un échantillon\n",
    "plt.figure()\n",
    "index = 0\n",
    "plt.imshow(X[index].reshape(16,16), interpolation=None)\n",
    "plt.title('Affichage d\\'un échantillon de la classe: '+str(Y[index]))\n",
    "\n",
    "# étude très rapide des données:\n",
    "plt.figure()\n",
    "plt.hist(Y, 10) # histogramme de répartition des 10 classes\n",
    "plt.show()"
   ]
  },
  {
   "cell_type": "markdown",
   "metadata": {},
   "source": [
    "## Exercice 1: retour sur le max de vraisemblance\n",
    "\n",
    "Nous retravaillons rapidement le max de vraisemblance pour obtenir un baseline. Nous allons travailler en bayesien naif sur des images binarisées:\n",
    "$$ x_{ij} \\in \\{0,1\\}, \\qquad p(x_i | \\Theta) = \\prod_j p(x_{ij} | \\Theta_j)$$\n",
    "\n",
    "Le code est fourni, il suffit de l'exécuter:"
   ]
  },
  {
   "cell_type": "markdown",
   "metadata": {},
   "source": [
    "**Notes personnelles:**\n",
    "\n",
    "Pour une certaine classe $k \\in \\{0, 1, 2, 3, 4, 5, 6, 7, 8, 9 \\}$ d'images, $\\theta_k$ est le vecteur des $d$ valeurs moyennes pour chaque pixel d'une image de classe $k$, avec $d$ le nombre d'attributs d'un échantillon $x_i$. Ici, $d = 256$."
   ]
  },
  {
   "cell_type": "code",
   "execution_count": 228,
   "metadata": {},
   "outputs": [],
   "source": [
    "# -- Apprentissage d'un modèle de Bernoulli naif par classe\n",
    "\n",
    "def learnBernoulli (X,Y):\n",
    "    theta = [(X[Y==y].mean(0)) for y in np.unique(Y)]\n",
    "    return np.array(theta)\n",
    "\n",
    "# -- Evaluation de la vraisemblance d'une base d'échantillon\n",
    "\n",
    "def logpobsBernoulli(X, theta):\n",
    "    \"\"\" Retourne une matrice avec les vraisemblances des échantillons pour toutes les classes.\n",
    "        @param X: float array x array, matrice d'images\n",
    "        @param theta: float array x array, matrice des theta_k\n",
    "    \"\"\"\n",
    "    seuil = 1e-4\n",
    "    theta = np.maximum(np.minimum(1-seuil, theta),seuil)\n",
    "    logp = [[ (x*np.log(mod)+(1-x)*np.log(1-mod)).sum() for x in X] for mod in theta ]\n",
    "    return np.array(logp)"
   ]
  },
  {
   "cell_type": "code",
   "execution_count": 229,
   "metadata": {},
   "outputs": [
    {
     "name": "stdout",
     "output_type": "stream",
     "text": [
      "Bernoulli : Taux bonne classification en apprentissage :  0.8723083253326018\n",
      "Bernoulli : Taux bonne classification en test :  0.8236173393124065\n"
     ]
    },
    {
     "data": {
      "image/png": "[encoded data removed]",
      "text/plain": [
       "<Figure size 432x288 with 1 Axes>"
      ]
     },
     "metadata": {
      "needs_background": "light"
     },
     "output_type": "display_data"
    }
   ],
   "source": [
    "# binariser X (sinon la modélisation Bernoulli ne tient plus)\n",
    "Xb = np.where(X >0, 1., 0.)\n",
    "Xbt = np.where(Xt >0, 1., 0.)\n",
    "\n",
    "\n",
    "## Max de Vraisemblance\n",
    "theta = learnBernoulli ( Xb,Y )\n",
    "\n",
    "## Evaluation de la vraisemblance des échantillons\n",
    "logp  = logpobsBernoulli(Xb, theta)\n",
    "logpT = logpobsBernoulli(Xbt, theta)\n",
    "\n",
    "# calcul des y de prédiction à partir de la matrice des vraisemblances\n",
    "ypred_b  = logp.argmax(0)\n",
    "ypredT_b = logpT.argmax(0)\n",
    "\n",
    "print(\"Bernoulli : Taux bonne classification en apprentissage : \",np.where(ypred_b != Y, 0.,1.).mean())\n",
    "print(\"Bernoulli : Taux bonne classification en test : \",np.where(ypredT_b != Yt, 0.,1.).mean())\n",
    "\n",
    "# resultats qualitatifs: affichage des poids du modèle de la classe 0\n",
    "plt.figure()\n",
    "plt.imshow(theta[0].reshape(16,16))\n",
    "plt.show()"
   ]
  },
  {
   "cell_type": "markdown",
   "metadata": {},
   "source": [
    "## Exercice 2: prise en compte des informations a priori et passage au MAP\n",
    "\n",
    "La seule information dont nous disposons est la répartition des classes (cf histogramme).\n",
    "1. Calcul des probabilités a priori des classes \n",
    "1. Evaluation des performances avec prise en compte de ces informations a priori\n",
    "1. Afficher les images des chiffres qui changent de classe avec les prédictions avant/après\n",
    "\n",
    "Cet exercice correspondant principalement à des compétences de séances précédentes, le code est fourni."
   ]
  },
  {
   "cell_type": "code",
   "execution_count": 230,
   "metadata": {},
   "outputs": [
    {
     "name": "stdout",
     "output_type": "stream",
     "text": [
      "Bernoulli : Taux bonne classification MAP en apprentissage :  0.8720340145384721\n",
      "Bernoulli : Taux bonne classification MAP en test :  0.8236173393124065\n"
     ]
    },
    {
     "data": {
      "image/png": "[encoded data removed]",
      "text/plain": [
       "<Figure size 432x288 with 1 Axes>"
      ]
     },
     "metadata": {
      "needs_background": "light"
     },
     "output_type": "display_data"
    },
    {
     "data": {
      "text/plain": [
       "<Figure size 432x288 with 0 Axes>"
      ]
     },
     "metadata": {},
     "output_type": "display_data"
    },
    {
     "data": {
      "image/png": "[encoded data removed]",
      "text/plain": [
       "<Figure size 432x288 with 4 Axes>"
      ]
     },
     "metadata": {
      "needs_background": "light"
     },
     "output_type": "display_data"
    }
   ],
   "source": [
    "# CORRECTION\n",
    "pAPriori = np.array([np.where(Y==i, 1, 0).sum() for i in np.unique(Y)]).reshape(10,1) / len(Y)\n",
    "\n",
    "plt.figure()\n",
    "plt.imshow(pAPriori.T, interpolation=None)\n",
    "plt.title('Distribution des classes')\n",
    "\n",
    "# pas de modification sur les paramètres optimaux\n",
    "ypred  = (logp + np.log(pAPriori)).argmax(0) # utilise le dispatch numpy\n",
    "ypredT = (logpT+ np.log(pAPriori)).argmax(0)\n",
    "\n",
    "print (\"Bernoulli : Taux bonne classification MAP en apprentissage : \",np.where(ypred != Y, 0.,1.).mean())\n",
    "print (\"Bernoulli : Taux bonne classification MAP en test : \",np.where(ypredT != Yt, 0.,1.).mean())\n",
    "\n",
    "# recherche d'un point ayant changé de classe avec le MAP:\n",
    "index = np.where(ypred != ypred_b)[0]\n",
    "plt.figure()\n",
    "plt.subplots(1,len(index))\n",
    "for num,i in enumerate(index):\n",
    "    plt.subplot(1,len(index),num+1) # subplot commence à 1 (héritage matlab)\n",
    "    plt.imshow(Xb[i].reshape(16,16))\n",
    "    plt.title(\"y = \"+str(int(Y[i])) + \",\"+str(ypred[i])+\",\"+str(ypred_b[i]) )\n",
    "plt.show()"
   ]
  },
  {
   "cell_type": "markdown",
   "metadata": {},
   "source": [
    "## Exercice 3: codage de la régression logistique\n",
    "\n",
    "***Rappel: régression logistique = système de classification***\n",
    "\n",
    "$$ p(y_i | \\mathbf x_i) = \\left( \\frac{1}{1 + \\exp( -(  \\mathbf x_i  \\mathbf w + b))}\\right)^{y_i} \\left(1- \\frac{1}{1 + \\exp( -(  \\mathbf x_i  \\mathbf w + b))}\\right)^{1-y_i} $$\n",
    "\n",
    "\n",
    "Soit en agrégeant sur la base de données et notant: $exp = \\exp( -(  \\mathbf x_i  \\mathbf w + b))$\n",
    "$$\\mathcal L_{log} = \\sum_i  y_i \\log(\\frac{1}{1+exp}) + (1-y_i) \\log(1-\\frac{1}{1+exp})$$ \n",
    "$$\\mathcal L_{\\log}=\\sum_{i=1}^N \\log(1+exp) ( -y_i -1 + y_i) + \\log(exp)(1-y_i)$$\n",
    "\n",
    "Soit:\n",
    "$$ \\frac{\\partial  }{\\partial w_j} L_{\\log} =\\sum_{i=1}^N x_{ij}( y_i-\\frac{1}{1+exp}) \\in \\mathbb R$$\n",
    "On remarque qu'il est possible de passer à une écriture vectorielle:\n",
    "$$ \\nabla_{\\mathbf w} L_{\\log} =X^T ( Y-\\frac{1}{1+\\exp( -(  \\mathbf X  \\mathbf w + b))}) \\in \\mathbb R^d$$\n",
    "$$ \\frac{\\partial  }{\\partial b} L_{\\log} =\\sum_{i=1}^N ( y_i-\\frac{1}{1+exp}) \\in \\mathbb R$$\n",
    "\n",
    "Note: il est possible de manière **facultative**, comme dans le TME de la semaine dernière, de construire:\n",
    "$$Xe = \\left[\\begin{array}{cc}\n",
    "                \\mathbf x_0 & 1\\\\\n",
    "                \\vdots & \\vdots\\\\\n",
    "                \\mathbf x_N & 1\n",
    "                \\end{array}\n",
    "                \\right] $$\n",
    "On supprime alors les $b$ pour obtenir:\n",
    "$$ \\nabla_{\\mathbf w_e} L_{\\log} =X_e^T ( Y-\\frac{1}{1+\\exp( -(  \\mathbf X_e  \\mathbf w_e))}) \\in \\mathbb R^{d+1}$$\n",
    "\n",
    "### Liste des questions\n",
    "1. Coder la descente de gradient classique (batch) entre deux classes <BR>\n",
    "    Attention, il s'agit d'une montée de gradient pour maximiser la vraisemblance <BR>\n",
    "    Proposition de critère d'arrêt: $\\max_j(|w_{new,j} - w_{old,j}| ) < 10^{-3}$\n",
    "1. Evaluer les performances sur la distinction entre les 2 et les 3\n",
    "1. Passer au multi-classe avec le paradigme un-contre-tous\n",
    "1. [OPT, à faire à la fin] passer à un algorithme de gradient stochastique"
   ]
  },
  {
   "cell_type": "markdown",
   "metadata": {},
   "source": [
    "**1ère version de la montée de gradient (calcul itératif)**"
   ]
  },
  {
   "cell_type": "code",
   "execution_count": 245,
   "metadata": {},
   "outputs": [],
   "source": [
    "# ----------------- 1- MONTEE DE GRADIENT -----------------\n",
    "\n",
    "def rl_gradient_batch(X,Y, epsilon = 1e-3, niter_max=1000):\n",
    "    \"\"\" Code de la descente de gradient (batch) entre deux classes.\n",
    "        @param X: float array x array, liste d'images\n",
    "        @param Y: float array, liste des classes correspondant à chaque image de X\n",
    "        @param epsilon: float, taux d'apprentissage pour la descente de gradient\n",
    "        @param niter_max: int, nombre maximum d'itérations (arrêt si on n'a pas atteint la convergence avant)\n",
    "        @return w: float array, 1er paramètre de la montée de gradient\n",
    "        @return b: float, 2ème paramètre de la montée de gradient\n",
    "    \"\"\"\n",
    "    N,d = X.shape\n",
    "    \n",
    "    # ------- ETAPE 1: Initialisation de w et b\n",
    "    \n",
    "    w = np.zeros(d, dtype=float)\n",
    "    b = np.zeros(d, dtype=float)\n",
    "    \n",
    "    # ------- ETAPE 2: Bouclage tant que convergence non-atteinte\n",
    "    \n",
    "    iter = 0    \n",
    "    \n",
    "    while iter < niter_max:\n",
    "        \n",
    "        # Calcul des dérivées partielles de L_log en wj (dL_wj) et en b (dL_b)\n",
    "        \n",
    "        dL_w = np.array([np.sum([X[i][j] * (Y[i] - (1/(1+np.exp(-(X[i]*w + b))))) for i in range(N)]) for j in range(d)])\n",
    "        dL_b = np.sum([Y[i] - (1/(1+np.exp(-(X[i]*w + b)))) for i in range(N)])\n",
    "    \n",
    "        # --- MAJ ?\n",
    "        w_new = w + epsilon * dL_w\n",
    "        b_new = b + epsilon * dL_b\n",
    "        \n",
    "        if np.max(np.abs(w_new-w)) < 10e-3:\n",
    "            print('Convergence atteinte en', iter, 'itérations.')\n",
    "            break\n",
    "        else:\n",
    "            w = w_new\n",
    "            b = b_new\n",
    "            iter += 1\n",
    "    \n",
    "    return w,b # ou seulement w si vous avez ajouté les 1 dans X"
   ]
  },
  {
   "cell_type": "markdown",
   "metadata": {},
   "source": [
    "**Remarques:**\n",
    "\n",
    "Lorsque nous faisons tourcer ce code, il est bien trop long. Nous décidons donc de procéder avec la matrice d'enrichiessement, comme dans le TME 9, qui nous rend un $\\omega$ optimal en un temps court."
   ]
  },
  {
   "cell_type": "markdown",
   "metadata": {},
   "source": [
    "**2ème version de la montée de gradient (avec matrice enrichie $X_e$)**"
   ]
  },
  {
   "cell_type": "code",
   "execution_count": 276,
   "metadata": {},
   "outputs": [],
   "source": [
    "# ------- Fonction qui renvoie une la matrice enrichie Xe à partie du vecteur X -------\n",
    "\n",
    "def make_mat_lin_biais(X):\n",
    "    \"\"\" Fonction d'enrichissement: permet de construire la matrice enrichie Xe à partir\n",
    "        du vecteur X, pour le problème y = ax + b + eps.\n",
    "        @param X: float array, vecteur unidimensionnel\n",
    "        @return Xe: float array x array, matrice enrichie de X\n",
    "    \"\"\"\n",
    "    N = len(X)\n",
    "    return np.hstack((X,np.ones((N,1))))"
   ]
  },
  {
   "cell_type": "code",
   "execution_count": 277,
   "metadata": {},
   "outputs": [],
   "source": [
    "# --- Pour travailler en matrice: (Re)-construction de la matrice contenant les X et un biais\n",
    "\n",
    "Xe = make_mat_lin_biais(X_23) # dataset linéaire, transformation lineaire des données\n",
    "\n",
    "def rl_gradient_batch(X, Y, epsilon=1e-3, niter_max=1000):\n",
    "    \"\"\" Fonction de montée de gradient permettant de trouver le paramètre w optimal,\n",
    "        ie le w qui minimise la fonction de coût. Retourne le w optimal ainsi que la liste des\n",
    "        nIterations w calculés\n",
    "        @param X: float array, ensemble des échantillons\n",
    "        @param Y: float array, classes associées à chaque échantillon de X\n",
    "        @param epsilon: float, erreur/bruit/résidu\n",
    "        @param niter_max: int, nombre d'itérations sur w\n",
    "        @return w: float array, w optimal\n",
    "    \"\"\"\n",
    "    N,d = X.shape\n",
    "\n",
    "    # --- ETAPE 0: Initialisation de w à 0\n",
    "    w = np.zeros(d, dtype=float)\n",
    "    \n",
    "    # --- ETAPE 1: Boucle sur w\n",
    "    iter = 0\n",
    "    while iter < niter_max:\n",
    "        Xw = np.dot(X, w)\n",
    "        w_new = w + epsilon * np.dot(X.T, Y - 1/(1 + np.exp(-Xw))) # Calcul du gradient\n",
    "        \n",
    "        if np.max(np.abs(w_new-w)) < 10e-3:\n",
    "            print('Convergence atteinte en', iter, 'itérations.')\n",
    "            break\n",
    "        else:\n",
    "            w = w_new\n",
    "            iter += 1\n",
    "    \n",
    "    return w # la dernière valeur (meilleure)"
   ]
  },
  {
   "cell_type": "markdown",
   "metadata": {},
   "source": [
    "**Test de la classification par régression logistique avec les classes d'images 2 et 3:**"
   ]
  },
  {
   "cell_type": "code",
   "execution_count": 295,
   "metadata": {},
   "outputs": [
    {
     "name": "stdout",
     "output_type": "stream",
     "text": [
      "Taille des données : (1389, 256) (1389,)\n",
      "Convergence atteinte en 39 itérations.\n",
      "\n",
      "w =  [ 1.95082027e-02  4.11306972e-02  5.66261335e-02  8.35390375e-02\n",
      "  8.21855818e-02  2.00200859e-01  3.26134061e-01  3.50469593e-01\n",
      " -1.90652904e-02 -4.81976327e-01 -4.61864422e-01 -3.24390524e-01\n",
      " -1.52392674e-01 -2.56362044e-02  2.96311459e-03 -8.27821725e-06\n",
      "  4.71170377e-02  1.74666393e-01  2.35926241e-01  2.07129409e-01\n",
      "  2.76072900e-01  2.37206953e-01  1.77188948e-01  5.24965711e-02\n",
      " -6.05815626e-02 -3.54306235e-01 -6.83620911e-01 -6.11600130e-01\n",
      " -3.47201643e-01 -1.44986236e-01  7.41116822e-03 -3.85486379e-03\n",
      "  5.85872696e-02  2.00190663e-01  2.57270651e-01  4.47052275e-01\n",
      "  4.56261849e-01  1.87161600e-01 -1.40317468e-01 -2.49878673e-01\n",
      " -9.41827315e-02 -3.62346569e-02 -4.30715404e-01 -6.24666907e-01\n",
      " -5.91590924e-01 -3.02132271e-01 -7.04255280e-02 -1.66889252e-02\n",
      "  6.83856103e-02  2.31202041e-01  4.64060835e-01  6.73935612e-01\n",
      "  5.46636784e-01  2.12569758e-01  3.70746955e-02  3.77210882e-02\n",
      "  2.86640989e-01  3.97231468e-01 -2.26335282e-01 -5.34130599e-01\n",
      " -5.56830029e-01 -4.41955206e-01 -1.76640644e-01 -4.82624072e-02\n",
      "  3.42560572e-02  1.31709598e-01  3.30265876e-01  5.82342645e-01\n",
      "  5.02521018e-01  1.78023458e-01  9.86568876e-03  3.76654297e-02\n",
      "  8.25259123e-02 -6.15239566e-03 -2.20435410e-01 -3.26967705e-01\n",
      " -3.10601121e-01 -2.98737616e-01 -2.51133908e-01 -5.96631708e-02\n",
      " -1.94559738e-02  1.13093402e-01  2.68105476e-01  3.51543889e-01\n",
      "  2.23083031e-01 -1.52981093e-01 -4.30687344e-01 -6.72933763e-01\n",
      " -7.75823047e-01 -6.79644254e-01 -3.59156531e-01 -2.44042728e-01\n",
      " -7.04622073e-02 -9.83636899e-02 -1.64509279e-01 -5.62706999e-02\n",
      "  4.59116975e-02  1.24869089e-01  1.87813081e-01  1.07064423e-01\n",
      " -1.11546942e-01 -5.73707244e-01 -1.12454945e+00 -1.39864979e+00\n",
      " -1.39250003e+00 -1.03385135e+00 -6.43143909e-01 -4.20504962e-01\n",
      " -4.97660342e-02  3.67131635e-02 -4.86792150e-02 -3.97352904e-02\n",
      "  7.08190342e-02  5.21019849e-02  8.19511438e-02 -3.69480806e-02\n",
      " -2.44886719e-01 -5.98449385e-01 -9.41902881e-01 -1.14970162e+00\n",
      " -1.10231136e+00 -8.84172489e-01 -7.38768271e-01 -6.67655269e-01\n",
      " -3.22067341e-01 -7.30964930e-02  3.35683264e-02 -4.14324440e-03\n",
      "  9.75681307e-02  1.72230478e-01  3.21060474e-01  3.72051114e-01\n",
      "  3.51562459e-01  2.34981087e-01  1.60321233e-01  1.80440226e-01\n",
      "  1.75857969e-01  2.43301888e-02 -3.64161711e-01 -8.85411406e-01\n",
      " -6.55224691e-01 -3.69449729e-01 -1.04736734e-01 -1.70636212e-02\n",
      "  1.22275768e-01  4.76667013e-01  7.62909448e-01  1.06883034e+00\n",
      "  1.17899662e+00  1.19069210e+00  1.27306821e+00  1.23567073e+00\n",
      "  1.05639100e+00  7.01831643e-01  1.27079066e-01 -5.82922359e-01\n",
      " -6.88887073e-01 -6.09896772e-01 -4.30157299e-01 -7.85227819e-02\n",
      "  2.60048393e-01  7.96903521e-01  1.11756109e+00  1.30760854e+00\n",
      "  1.47026016e+00  1.52885120e+00  1.63888896e+00  1.65260567e+00\n",
      "  1.31417068e+00  8.55390884e-01  3.90061791e-01 -2.46161568e-01\n",
      " -5.91866868e-01 -6.62013042e-01 -4.82343442e-01 -1.83193138e-01\n",
      "  2.78239598e-01  8.79633789e-01  1.13260646e+00  1.15954819e+00\n",
      "  1.20886435e+00  1.37204268e+00  1.65085315e+00  1.56691274e+00\n",
      "  1.25272739e+00  9.41547466e-01  4.99571718e-01 -7.85974479e-02\n",
      " -5.00599634e-01 -5.02742938e-01 -3.82295792e-01 -1.97393168e-01\n",
      "  3.70370694e-01  8.69527038e-01  9.03937222e-01  6.51661030e-01\n",
      "  5.39728089e-01  6.62404458e-01  8.68690472e-01  9.21744823e-01\n",
      "  8.27091851e-01  3.78797585e-01  1.54564526e-02 -2.81404297e-01\n",
      " -5.41384141e-01 -2.57214570e-01  2.25412269e-02  7.05046586e-02\n",
      "  2.26494797e-01  7.33325924e-01  8.46246577e-01  5.32702635e-01\n",
      "  3.50515828e-01  1.27431549e-01  3.41792912e-02  5.64113221e-02\n",
      " -9.65574620e-02 -3.92294182e-01 -5.67833665e-01 -5.39250750e-01\n",
      " -2.83877544e-01  1.59344718e-01  4.67593826e-01  3.38079972e-01\n",
      "  1.49193098e-01  4.60392792e-01  5.86349288e-01  4.34823605e-01\n",
      "  2.36469776e-01 -1.10646808e-01 -3.28067629e-01 -4.91565419e-01\n",
      " -6.17141951e-01 -6.75582437e-01 -5.36318291e-01 -1.10579689e-01\n",
      "  3.01984077e-01  5.81842587e-01  6.24180919e-01  3.19039837e-01\n",
      "  3.88206972e-02  1.48505495e-01  2.55415285e-01  2.92318512e-01\n",
      "  2.56611882e-01 -4.59718387e-02 -3.72448307e-01 -5.81613627e-01\n",
      " -7.64961966e-01 -6.95545477e-01 -3.85974238e-01 -2.79102562e-02\n",
      "  2.88959302e-01  4.14662801e-01  3.40807091e-01  1.00244194e-01]\n"
     ]
    }
   ],
   "source": [
    "# ------- 2. CAS SUR LES CLASSES 2 ET 3, PASSAGE A UN CODAGE EN {0, 1} POUR Y -------\n",
    "\n",
    "cl1 = 2\n",
    "cl2 = 3\n",
    "\n",
    "# Données d'apprentissage\n",
    "X_23 = X[(Y==cl1)|(Y==cl2),:]\n",
    "Y_23 = np.where(Y[(Y==cl1)|(Y==cl2)] == cl1, 1., 0.)\n",
    "\n",
    "# Données de test\n",
    "Xt_23 = Xt[(Yt==cl1)|(Yt==cl2),:]\n",
    "Yt_23 = np.where(Yt[(Yt==cl1)|(Yt==cl2)] == cl1, 1., 0.)\n",
    "\n",
    "print(\"Taille des données :\",X_23.shape,Y_23.shape)\n",
    "\n",
    "# application de la montée de gradient & evaluation des performances\n",
    "# attention à afficher les Ypred et les Y_23 pour vérifier qu'ils sont comparables\n",
    "\n",
    "# --- Apprentissage du paramètre w* à partir des données d'apprentissage X_23 et Y_23\n",
    "\n",
    "w = rl_gradient_batch(X_23, Y_23, epsilon = 1e-3, niter_max=1000)\n",
    "print('\\nw = ', w)"
   ]
  },
  {
   "cell_type": "markdown",
   "metadata": {},
   "source": [
    "**Prédiction des classes pour les données d'apprentissage et les données de test:**"
   ]
  },
  {
   "cell_type": "code",
   "execution_count": 304,
   "metadata": {
    "scrolled": true
   },
   "outputs": [],
   "source": [
    "# On choisit la classe pour laquelle la proba p(yi|xi) est maximale pour tout échantillon xi de Xt_23\n",
    "\n",
    "def P_YsachantX(xi, yi, w):\n",
    "    \"\"\" Calcul de p(yi|xi).\n",
    "    \"\"\"\n",
    "    return (1 / (1 + np.exp(-xi*w) ) )**yi * (1- (1 / (1 + np.exp(-xi*w) ) ) )**(1-yi)\n",
    "\n",
    "\n",
    "\n",
    "def taux_BC(X, Y, w):\n",
    "    \"\"\" Renvoie le taux de bonne classification sur les données X et Y, pour un certain paramètre w\n",
    "    \"\"\"\n",
    "    # Initialisation et calcul de la liste des classes prédites à partir du paramètre w* précédemment calculé:\n",
    "    \n",
    "    Ypred = []\n",
    "    for i in range(len(X)):\n",
    "        Ypred.append( np.argmax([np.sum(P_YsachantX(X[i], 0, w)), np.sum(P_YsachantX(X[i], 1, w))]) )\n",
    "    \n",
    "    # Calcul du taux de bonne classification:\n",
    "    # bc vaut 1 à l'indice i si la classe prédite pour X[i] vaut bien Y[i]\n",
    "    bc = [ int(Y[i] == Ypred[i]) for i in range(len(Y))]\n",
    "    taux_bc = np.sum(bc)/len(bc)\n",
    "    \n",
    "    return Ypred, taux_bc"
   ]
  },
  {
   "cell_type": "markdown",
   "metadata": {},
   "source": [
    "**Calcul des taux de bonne classification pour les données d'apprentissage et de test:**"
   ]
  },
  {
   "cell_type": "markdown",
   "metadata": {},
   "source": [
    "On peut décommenter les lignes ci-dessous pour afficher les classes prédites et les classes attendues."
   ]
  },
  {
   "cell_type": "code",
   "execution_count": 317,
   "metadata": {},
   "outputs": [
    {
     "name": "stdout",
     "output_type": "stream",
     "text": [
      "Taux de bonne classification en apprentissage:  0.9820014398848093\n",
      "Taux de bonne classification en test:  0.9505494505494505\n"
     ]
    }
   ],
   "source": [
    "# Taux de bonne classification pour les données d'apprentissage\n",
    "Y_pred_train, taux_bc_train = taux_BC(X_23, Y_23, w)\n",
    "\n",
    "#print('\\t\\t\\t----------------- Sur les données d\\'apprentissage: -----------------\\n')\n",
    "#print('Classes attendues: \\n', np.ndarray.tolist(Y_23))\n",
    "#print('\\n\\nClasses prédites: \\n', Y_pred_train)\n",
    "\n",
    "# Taux de bonne classification pour les données de test\n",
    "Y_pred_test, taux_bc_test = taux_BC(Xt_23, Yt_23, w)\n",
    "\n",
    "#print('\\t\\t\\t----------------- Sur les données d\\'apprentissage: -----------------\\n')\n",
    "#print('Classes attendues: \\n', np.ndarray.tolist(Y_23))\n",
    "#print('\\n\\nClasses prédites: \\n', Y_pred_train)\n",
    "\n",
    "print('Taux de bonne classification en apprentissage: ', taux_bc_train)\n",
    "print('Taux de bonne classification en test: ', taux_bc_test)"
   ]
  },
  {
   "cell_type": "markdown",
   "metadata": {},
   "source": [
    "Sortie attendue\n",
    "```\n",
    "Taille des données : (1389, 256) (1389,)\n",
    "convergence atteinte en  330  itérations # si vous avez fait un print dans le critère d'arret\n",
    "[0. 1. 1. 0. 1. 1. 1. 0. 0. 1. 1. 1. 1. 1. 1. 0. 1. 1. 1. 1.] \n",
    " [0. 1. 1. 0. 1. 1. 1. 0. 0. 1. 1. 1. 1. 1. 1. 0. 1. 1. 1. 1.]\n",
    "App :  0.9992800575953924\n",
    "Test :  0.9615384615384616\n",
    "```"
   ]
  },
  {
   "cell_type": "code",
   "execution_count": 318,
   "metadata": {},
   "outputs": [
    {
     "data": {
      "image/png": "[encoded data removed]",
      "text/plain": [
       "<Figure size 432x288 with 1 Axes>"
      ]
     },
     "metadata": {
      "needs_background": "light"
     },
     "output_type": "display_data"
    }
   ],
   "source": [
    "plt.figure()\n",
    "plt.imshow(w.reshape(16,16))\n",
    "plt.savefig(\"w23.png\")\n",
    "# montrer les paramètres des modèles génératifs des classes 2 et 3 pour comparer"
   ]
  },
  {
   "cell_type": "markdown",
   "metadata": {},
   "source": [
    "### Passage au multiclasse\n",
    "\n",
    "Nous allons utiliser le paradigme *un-contre-tous* mais nous allons le coder proprement dans une fonction.\n",
    "Dans la fonction ```rl_multi(X,Y, epsilon = 1e-3, niter_max=1000)``` effectuer les opérations suivantes:\n",
    "\n",
    "1. Extraire toutes les classes de Y\n",
    "1. Pour chaque classe\n",
    "11. Construire Ycl telle que:\n",
    "$$Y_{cl} = \\left\\{ \n",
    "\\begin{array}{cl}\n",
    "1 & \\mbox{ si } Y == cl     \\\\\n",
    "0 & \\mbox{ sinon (pour toutes les autres classes) }\n",
    "\\end{array}\n",
    "\\right.$$\n",
    "11. Lancer un apprentissage\n",
    "1. Empiler tous les $\\mathbf w$ & $b$ comme suit:\n",
    "\n",
    "$$W = \\left[\\begin{array}{cccc}\n",
    "                \\\\\n",
    "                \\mathbf w_{cl=0} & \\mathbf w_{cl=1} & \\ldots & \\mathbf w_{cl=9}\n",
    "                \\\\ \\\\\n",
    "                \\end{array}\n",
    "                \\right] $$\n",
    "$$\\mathbf b = \\left[\\begin{array}{cccc}\n",
    "                \\mathbf b_{cl=0} & \\mathbf b_{cl=1} & \\ldots & \\mathbf b_{cl=9}\n",
    "                \\end{array}\n",
    "                \\right] $$\n",
    "                \n",
    "On peut alors montrer que:\n",
    "$$ \\frac{1}{1+\\exp( - \\mathbf X W - \\mathbf b)}  = \\left[\\begin{array}{cccc}\n",
    "                p(Y = 1 | X = \\mathbf x_1) & p(Y = 2 | X = \\mathbf x_1) & \\ldots & p(Y = 9 | X = \\mathbf x_1)\n",
    "                \\\\ \n",
    "                \\vdots & &\\ddots & \\vdots\\\\\n",
    "p(Y = 1 | X = \\mathbf x_N) & p(Y = 2 | X = \\mathbf x_N) & \\ldots & p(Y = 9 | X = \\mathbf x_N)\n",
    "\\\\\n",
    "                \\end{array}\n",
    "                \\right] \\in \\mathbb R^{N\\times C}$$\n",
    "               Avec $N$ points et $C$ classes\n",
    "1. Utiliser un ```argmax``` pour extraire le numéro de classe"
   ]
  },
  {
   "cell_type": "code",
   "execution_count": 411,
   "metadata": {},
   "outputs": [],
   "source": [
    "def rl_multi(X,Y, epsilon = 1e-3, niter_max=1000):\n",
    "    \"\"\" Fonction de montée de gradient permettant de trouver le paramètre w optimal pour le problème multiclasse,\n",
    "        ie le w qui minimise la fonction de coût. Retourne le w optimal ainsi que la liste des\n",
    "        nIterations w calculés\n",
    "        @param X: float array, ensemble des échantillons (données en entrée)\n",
    "        @param y: float array, classes associées à chaque échantillon de X\n",
    "        @param epsilon: float, erreur/bruit/résidu\n",
    "        @param niter_max: int, nombre d'itérations sur w\n",
    "        @return w: float array, w optimal\n",
    "    \"\"\"\n",
    "    \n",
    "    N,d = X.shape\n",
    "    \n",
    "    # --- ETAPE 1: Extraction de toutes les classes de Y, initialisation de W\n",
    "    classes = np.unique(Y)\n",
    "    W = []\n",
    "    \n",
    "    # --- ETAPE 2: Initialiser les poids & lancer un modèle par classe\n",
    "    # dans la boucle for, vous pouvez utiliser : Y_tmp = np.where(Y == c, 1., 0.)\n",
    "    \n",
    "    for c in classes: # Pour chaque classe c\n",
    "        \n",
    "        # Données d'apprentissage\n",
    "        Y_c = np.where(Y == c, 1., 0.)\n",
    "        \n",
    "        W.append(rl_gradient_batch(X, Y_c, epsilon = 1e-3, niter_max=1000))\n",
    "    \n",
    "    # On redimensionne W pour obtenir l'empilement de W voulu:\n",
    "    d = W[0].shape[0]\n",
    "    W_star = W[0].reshape(d,1)\n",
    "    for i in range(1,len(W)):\n",
    "        W_star = np.hstack((W_star, W[i].reshape(d,1)))\n",
    "    \n",
    "    return W_star"
   ]
  },
  {
   "cell_type": "code",
   "execution_count": 412,
   "metadata": {},
   "outputs": [
    {
     "name": "stdout",
     "output_type": "stream",
     "text": [
      "Convergence atteinte en 277 itérations.\n",
      "Convergence atteinte en 94 itérations.\n"
     ]
    },
    {
     "name": "stderr",
     "output_type": "stream",
     "text": [
      "<ipython-input-277-57809e209613>:25: RuntimeWarning: overflow encountered in exp\n",
      "  w_new = w + epsilon * np.dot(X.T, Y - 1/(1 + np.exp(-Xw))) # Calcul du gradient\n"
     ]
    },
    {
     "name": "stdout",
     "output_type": "stream",
     "text": [
      "Convergence atteinte en 378 itérations.\n",
      "Convergence atteinte en 365 itérations.\n",
      "Convergence atteinte en 119 itérations.\n",
      "Convergence atteinte en 132 itérations.\n",
      "Convergence atteinte en 159 itérations.\n"
     ]
    }
   ],
   "source": [
    "# duree execution = 30 secondes\n",
    "# n'hésitez pas à mettre un niter_max à 10 durant la phase de debug pour gagner du temps !\n",
    "W = rl_multi(X,Y)"
   ]
  },
  {
   "cell_type": "markdown",
   "metadata": {},
   "source": [
    "Rappels:\n",
    "$$ \\frac{1}{1+\\exp( - \\mathbf X W - \\mathbf b)}  = \\left[\\begin{array}{cccc}\n",
    "                p(Y = 1 | X = \\mathbf x_1) & p(Y = 2 | X = \\mathbf x_1) & \\ldots & p(Y = 9 | X = \\mathbf x_1)\n",
    "                \\\\ \n",
    "                \\vdots & &\\ddots & \\vdots\\\\\n",
    "p(Y = 1 | X = \\mathbf x_N) & p(Y = 2 | X = \\mathbf x_N) & \\ldots & p(Y = 9 | X = \\mathbf x_N)\n",
    "\\\\\n",
    "                \\end{array}\n",
    "                \\right] \\in \\mathbb R^{N\\times C}$$\n",
    "               Avec $N$ points et $C$ classes"
   ]
  },
  {
   "cell_type": "code",
   "execution_count": 413,
   "metadata": {},
   "outputs": [
    {
     "name": "stdout",
     "output_type": "stream",
     "text": [
      "App :  0.9499382800713209\n",
      "Test :  0.8868958644743398\n"
     ]
    }
   ],
   "source": [
    "# perf:\n",
    "Y_pred  = np.argmax(1/(1+np.exp(-X@W)),1)\n",
    "Yt_pred = np.argmax(1/(1+np.exp(-Xt@W)),1)\n",
    "# print(Yt[:20],\"\\n\",Yt_pred[:20])\n",
    "    \n",
    "pc_good   = np.where(Y_pred == Y , 1., 0.).mean()\n",
    "pc_good_t = np.where(Yt_pred==Yt , 1., 0.).mean()\n",
    "\n",
    "print(\"App : \",pc_good)\n",
    "print(\"Test : \",pc_good_t)"
   ]
  },
  {
   "cell_type": "markdown",
   "metadata": {},
   "source": [
    "**Observations:**\n",
    "\n",
    "Nous obtenons de meilleurs taux de classification que ce qui était attendu (?)\n",
    "Note: Nous avons enlevé les $b$ car nous avons procédé avec une matrice d'enrichissement $X_e$."
   ]
  },
  {
   "cell_type": "markdown",
   "metadata": {},
   "source": [
    "Performances attendues:\n",
    "```\n",
    "App :  0.8824578247154026\n",
    "Test :  0.8166417538614849\n",
    "```\n",
    "Pour l'instant, on ne voit pas encore l'intérêt... Mais ça va venir!"
   ]
  },
  {
   "cell_type": "markdown",
   "metadata": {},
   "source": [
    "## Exercice 4: Analyse de l'évolution de la vraisemblance \n",
    "\n",
    "Afin de vérifier le bon fonctionnement de l'algorithme, nous proposons de calculer la vraisemblance au cours des itérations (par exemple, toutes les 10 itérations) et de retourner le résultat pour voir comment se déroule l'apprentissage et pouvoir éventuellement ajuster la valeur de $\\epsilon$.\n",
    "\n",
    "En repartant de:\n",
    "$$\\mathcal L_{log} = \\sum_i  y_i \\log(\\frac{1}{1+exp}) + (1-y_i) \\log(1-\\frac{1}{1+exp})$$ \n",
    "Avec : $exp = \\exp( -(  \\mathbf x_i  \\mathbf w + b))$\n",
    "\n",
    "Modifier la fonction de calcul de la vraisemblance pour retourner l'évolution de la vraisemblance"
   ]
  },
  {
   "cell_type": "code",
   "execution_count": 419,
   "metadata": {},
   "outputs": [],
   "source": [
    "def rl_gradient_batch_L(X,Y, epsilon = 1e-3, niter_max=1000):\n",
    "    \"\"\" Fonction de montée de gradient permettant de trouver le paramètre w optimal,\n",
    "        ie le w qui minimise la fonction de coût. Retourne le w optimal ainsi que la liste des\n",
    "        nIterations w calculés\n",
    "        @param X: float array, ensemble des échantillons\n",
    "        @param Y: float array, classes associées à chaque échantillon de X\n",
    "        @param epsilon: float, erreur/bruit/résidu\n",
    "        @param niter_max: int, nombre d'itérations sur w\n",
    "        @return w: float array, w optimal\n",
    "        @return L: float array, liste des log-vraisemblances calculées toutes les 10 itérations\n",
    "    \"\"\"\n",
    "    N,d = X.shape\n",
    "    L = [] # init vraisemblance\n",
    "\n",
    "    # --- ETAPE 0: Initialisation de w à 0\n",
    "    w = np.zeros(d, dtype=float)\n",
    "    \n",
    "    # --- ETAPE 1: Boucle sur w\n",
    "    iter = 0\n",
    "    while iter < niter_max:\n",
    "        Xw = np.dot(X, w)\n",
    "        w_new = w + epsilon * np.dot(X.T, Y - 1/(1 + np.exp(-Xw))) # Calcul du gradient\n",
    "        \n",
    "        if np.max(np.abs(w_new-w)) < 10e-3:\n",
    "            print('Convergence atteinte en', iter, 'itérations.')\n",
    "            break\n",
    "        else:\n",
    "            w = w_new\n",
    "            \n",
    "            # MAJ de la liste L des vraisemblances toutes les 3 itérations\n",
    "            if iter%1 == 0:\n",
    "                exp = np.exp(-X[i]*w)\n",
    "                L.append(np.sum([ Y[i] * np.log(1/(1 + exp)) + (1 - Y[i]) * np.log(1 - 1/(1 + exp)) for i in range(N)]))\n",
    "            \n",
    "            iter += 1\n",
    "    \n",
    "    return w, np.array(L)"
   ]
  },
  {
   "cell_type": "markdown",
   "metadata": {},
   "source": [
    "**Test de classification par régression logistique et observation de l'évolution de la vraisemblance pour les classes d'images 2 et 3:**"
   ]
  },
  {
   "cell_type": "code",
   "execution_count": 420,
   "metadata": {},
   "outputs": [
    {
     "name": "stdout",
     "output_type": "stream",
     "text": [
      "Taille des données : (1389, 256) (1389,)\n",
      "Convergence atteinte en 39 itérations.\n"
     ]
    },
    {
     "data": {
      "text/plain": [
       "[<matplotlib.lines.Line2D at 0x2b379502b20>]"
      ]
     },
     "execution_count": 420,
     "metadata": {},
     "output_type": "execute_result"
    },
    {
     "data": {
      "image/png": "[encoded data removed]",
      "text/plain": [
       "<Figure size 432x288 with 1 Axes>"
      ]
     },
     "metadata": {
      "needs_background": "light"
     },
     "output_type": "display_data"
    }
   ],
   "source": [
    "# ------- 2. CAS SUR LES CLASSES 2 ET 3, PASSAGE A UN CODAGE EN {0, 1} POUR Y -------\n",
    "\n",
    "cl1 = 2\n",
    "cl2 = 3\n",
    "\n",
    "# Données d'apprentissage\n",
    "X_23 = X[(Y==cl1)|(Y==cl2),:]\n",
    "Y_23 = np.where(Y[(Y==cl1)|(Y==cl2)] == cl1, 1., 0.)\n",
    "\n",
    "# Données de test\n",
    "Xt_23 = Xt[(Yt==cl1)|(Yt==cl2),:]\n",
    "Yt_23 = np.where(Yt[(Yt==cl1)|(Yt==cl2)] == cl1, 1., 0.)\n",
    "\n",
    "print(\"Taille des données :\",X_23.shape,Y_23.shape)\n",
    "\n",
    "\n",
    "# --- Apprentissage du paramètre w* à partir des données d'apprentissage X_23 et Y_23\n",
    "\n",
    "w, L = rl_gradient_batch_L(X_23, Y_23, epsilon = 1e-3, niter_max=1000)\n",
    "#print(L)\n",
    "\n",
    "plt.figure()\n",
    "plt.plot(L)"
   ]
  },
  {
   "cell_type": "code",
   "execution_count": 425,
   "metadata": {},
   "outputs": [
    {
     "name": "stdout",
     "output_type": "stream",
     "text": [
      "L =  [-248525.22893211 -247951.13792781 -249077.12414742 -247794.80374494\n",
      " -261997.27390799 -253523.93919331 -273522.41440506 -264719.01795189\n",
      " -264288.10434278 -264088.62797178 -263975.475143   -263885.10093133\n",
      " -263801.90265587 -263723.25209262 -263648.80001388 -263578.62412\n",
      " -263513.38359626 -263453.78861866 -263400.06020493 -263351.86966531\n",
      " -263308.49069398 -263268.9654438  -263232.23105696 -263197.20359965\n",
      " -263162.84585096 -263128.25545203 -263092.7730651  -263056.05041536\n",
      " -263018.02414695 -262978.82203301 -262938.66892472 -262897.8261036\n",
      " -262856.55983859 -262815.12613186 -262773.7633051  -262732.68832013\n",
      " -262692.09450392 -262652.14917749 -262612.99050539]\n",
      "\n",
      "\n",
      "Taux de bonne classification: \n",
      "\tApp: 0.9820014398848093\n",
      "\tApp: 0.9505494505494505\n"
     ]
    }
   ],
   "source": [
    "# ------- Affichage de L la liste des vraisemblances -------\n",
    "print('L = ', L)\n",
    "Y23_app, taux_bc_app = taux_BC(X_23, Y_23, w)\n",
    "Y23_test, taux_bc_test = taux_BC(Xt_23, Yt_23, w)\n",
    "\n",
    "print('\\n\\nTaux de bonne classification: ')\n",
    "print('\\tApp:', taux_bc_app)\n",
    "print('\\tApp:', taux_bc_test)"
   ]
  },
  {
   "cell_type": "markdown",
   "metadata": {},
   "source": [
    "## Exercice 5: Analyse qualitative des solutions\n",
    "\n",
    "Quels sont les pixels qui jouent un role dans la décision?\n",
    "\n",
    "1. Pour une classe de données, je peux déjà afficher l'ampleur des poids $\\mathbf w$ associés à chaque classe. Cela indique si les pixels sont pondérés positivement ou négativement.\n",
    "1. Pour une image donnée, je sais que la décision est de la forme:\n",
    "$$p(y_i=1 | \\mathbf x_i) = \\frac{1}{1 + \\exp( -(  \\mathbf x_i  \\mathbf w + b))}$$\n",
    "Ainsi, la décision est formée d'une addition de $x_{ij}\\cdot w_j$: les plus fortes composante en valeur absolue sont celles qui participent le plus à la décision. <BR>\n",
    "Cette approche est particulièrement intéressante pour analyser les erreurs de classification.\n",
    "Afficher l'image d'un chiffre mal classé et une carte de chaleur indiquant quelles parties de l'image influencent le plus la décision: pour la classe prédite d'une part et pour la classe réelle d'autre part."
   ]
  },
  {
   "cell_type": "code",
   "execution_count": 426,
   "metadata": {},
   "outputs": [
    {
     "data": {
      "text/plain": [
       "<Figure size 432x288 with 0 Axes>"
      ]
     },
     "metadata": {},
     "output_type": "display_data"
    },
    {
     "data": {
      "image/png": "[encoded data removed]",
      "text/plain": [
       "<Figure size 432x288 with 10 Axes>"
      ]
     },
     "metadata": {
      "needs_background": "light"
     },
     "output_type": "display_data"
    }
   ],
   "source": [
    "# affichage des poids des paramètres des 10 classes (PAS DE CODE A AJOUTER)\n",
    "# prérequis: que les w soit en colonnes dans la matrice W\n",
    "plt.figure()\n",
    "plt.subplots(2, 5)\n",
    "for i in range(10):\n",
    "    plt.subplot(2, 5,i+1)\n",
    "    plt.imshow(W[:,i].reshape(16,16), cmap=\"gray\")\n",
    "    plt.title(\"modèle \"+str(i))"
   ]
  },
  {
   "cell_type": "code",
   "execution_count": 427,
   "metadata": {},
   "outputs": [
    {
     "name": "stdout",
     "output_type": "stream",
     "text": [
      "3\n"
     ]
    },
    {
     "data": {
      "text/plain": [
       "<Figure size 432x288 with 0 Axes>"
      ]
     },
     "metadata": {},
     "output_type": "display_data"
    },
    {
     "data": {
      "image/png": "[encoded data removed]",
      "text/plain": [
       "<Figure size 432x288 with 5 Axes>"
      ]
     },
     "metadata": {
      "needs_background": "light"
     },
     "output_type": "display_data"
    }
   ],
   "source": [
    "# trouver un échantillon mal classé (PAS DE CODE A AJOUTER):\n",
    "\n",
    "index = np.where(Y != Y_pred)[0][0] # parmi les points d'apprentissage\n",
    "print(index)\n",
    "\n",
    "plt.figure()\n",
    "plt.subplots(1,3)\n",
    "plt.subplot(1,3,1)\n",
    "plt.imshow(X[index].reshape(16,16),cmap=\"gray\")\n",
    "plt.title(\"Chiffre\")\n",
    "plt.subplot(1,3,2)\n",
    "plt.imshow((X[index]*W[:,int(Y[index])]).reshape(16,16),cmap=\"plasma\")\n",
    "plt.colorbar()\n",
    "plt.title(\"Heatmap cl \"+str(int(Y[index])))\n",
    "plt.subplot(1,3,3)\n",
    "plt.imshow((X[index]*W[:,int(Y_pred[index])]).reshape(16,16),cmap=\"plasma\")\n",
    "plt.title(\"Heatmap cl \"+str(int(Y_pred[index])))\n",
    "plt.colorbar()\n",
    "plt.savefig(\"malclasse.png\")\n"
   ]
  },
  {
   "cell_type": "markdown",
   "metadata": {},
   "source": [
    "### Exercice 5-2: limite de la représentation des chiffres\n",
    "\n",
    "L'expérience précédente met en lumière un phénomène évident: seuls les pixels non nuls jouent un role dans la classification.\n",
    "C'est très pénalisant, le fait qu'un pixel soit éteint ne peut influencer la décision que par son inaction... Mais pas forcer le système à aller dans une autre classe.\n",
    "\n",
    "Ce problème est aisément contournable: il suffit de travailler sur $X-1$ (les valeurs de pixels étant entre $0$ et $2$). Les $-1$ qui apparaissent vont alors jouer un role dans la décision.\n",
    "\n",
    "1. Ré-utiliser (sans modification) ```rl_multi``` sur $X-1$\n",
    "1. Calculer les performances en pensant bien à faire l'inférence sur $Xt-1$\n",
    "1. Afficher les contributions des pixels dans cette nouvelle configuration pour une image mal classée\n",
    "\n",
    "Note: avec la régression logistique, les classes $Y$ doivent être dans $\\mathcal Y=\\{0,1\\}$... Mais il n'y a pas de contrainte sur les $X$. Ajouter des descripteurs négatifs n'est pas un problème.\n"
   ]
  },
  {
   "cell_type": "code",
   "execution_count": 430,
   "metadata": {},
   "outputs": [
    {
     "name": "stdout",
     "output_type": "stream",
     "text": [
      "Convergence atteinte en 120 itérations.\n",
      "Convergence atteinte en 57 itérations.\n",
      "Convergence atteinte en 207 itérations.\n",
      "Convergence atteinte en 180 itérations.\n",
      "Convergence atteinte en 117 itérations.\n",
      "Convergence atteinte en 85 itérations.\n"
     ]
    }
   ],
   "source": [
    "# il n'y a pas de méthode à redéfinir...\n",
    "# juste apprendre un nouveau modèle sur des données modifiées... Et ne pas faire d'erreur en inférence.\n",
    "\n",
    "# --- ETAPE 1: Réutiliser (sans modification) rl_multi sur X - 1\n",
    "\n",
    "W = rl_multi(X-1,Y)"
   ]
  },
  {
   "cell_type": "code",
   "execution_count": 432,
   "metadata": {},
   "outputs": [
    {
     "name": "stdout",
     "output_type": "stream",
     "text": [
      "App :  0.9556988067480455\n",
      "Test :  0.9043348281016442\n"
     ]
    }
   ],
   "source": [
    "# perf:\n",
    "Y_pred  = np.argmax(1/(1+np.exp(-(X-1)@W)),1)\n",
    "Yt_pred = np.argmax(1/(1+np.exp(-(Xt-1)@W)),1)\n",
    "# print(Yt[:20],\"\\n\",Yt_pred[:20])\n",
    "    \n",
    "pc_good   = np.where(Y_pred == Y , 1., 0.).mean()\n",
    "pc_good_t = np.where(Yt_pred==Yt , 1., 0.).mean()\n",
    "\n",
    "print(\"App : \",pc_good)\n",
    "print(\"Test : \",pc_good_t)"
   ]
  },
  {
   "cell_type": "markdown",
   "metadata": {},
   "source": [
    "Sortie attendue:\n",
    "```\n",
    "App :  0.9663969277191058\n",
    "Test :  0.8938714499252616\n",
    "```\n",
    "On commence à voir l'intérêt de la régression logistique !!"
   ]
  },
  {
   "cell_type": "markdown",
   "metadata": {},
   "source": [
    "**Notes:**\n",
    "\n",
    "Dans la partie précédente, nous avions trouvé des taux de bonne classification supérieures à celles attendues:\n",
    "\n",
    "_Taux obtenus:_\n",
    "\n",
    "- App :  0.9499382800713209\n",
    "- Test :  0.8868958644743398\n",
    "\n",
    "_Taux attendus:_\n",
    "\n",
    "- App :  0.8824578247154026\n",
    "- Test :  0.8166417538614849\n",
    "\n",
    "Cette fois-ci nous voyons bien que le taux de bonne classification sur nos données de test sont bien meilleures."
   ]
  },
  {
   "cell_type": "code",
   "execution_count": 435,
   "metadata": {},
   "outputs": [
    {
     "name": "stdout",
     "output_type": "stream",
     "text": [
      "3\n"
     ]
    },
    {
     "data": {
      "text/plain": [
       "<matplotlib.colorbar.Colorbar at 0x2b377714d60>"
      ]
     },
     "execution_count": 435,
     "metadata": {},
     "output_type": "execute_result"
    },
    {
     "data": {
      "text/plain": [
       "<Figure size 432x288 with 0 Axes>"
      ]
     },
     "metadata": {},
     "output_type": "display_data"
    },
    {
     "data": {
      "image/png": "[encoded data removed]",
      "text/plain": [
       "<Figure size 432x288 with 5 Axes>"
      ]
     },
     "metadata": {
      "needs_background": "light"
     },
     "output_type": "display_data"
    }
   ],
   "source": [
    "# trouver un échantillon mal classé (PAS DE CODE A AJOUTER):\n",
    "\n",
    "index = np.where(Y != Y_pred)[0][0] # parmi les points d'apprentissage\n",
    "print(index)\n",
    "\n",
    "plt.figure()\n",
    "plt.subplots(1,3)\n",
    "plt.subplot(1,3,1)\n",
    "plt.imshow(X[index].reshape(16,16),cmap=\"gray\")\n",
    "plt.title(\"Chiffre\")\n",
    "plt.subplot(1,3,2)\n",
    "plt.imshow(((X[index]-1)*W[:,int(Y[index])]).reshape(16,16),cmap=\"plasma\")\n",
    "plt.colorbar()\n",
    "plt.title(\"Heatmap cl \"+str(int(Y[index])))\n",
    "plt.subplot(1,3,3)\n",
    "plt.imshow(((X[index]-1)*W[:,int(Y_pred[index])]).reshape(16,16),cmap=\"plasma\")\n",
    "plt.title(\"Heatmap cl \"+str(int(Y_pred[index])))\n",
    "plt.colorbar()"
   ]
  },
  {
   "cell_type": "markdown",
   "metadata": {},
   "source": [
    "## Exercice 6: Régularisation, performance & interprétation\n",
    "\n",
    "Dans ce problème en assez grande dimension (256), nous voyons un peu de sur-apprentissage: les performances sont meilleures en apprentissage qu'en test.\n",
    "\n",
    "On fait souvent l'hypothèse que ce phénomène est lié à un estimateur trop complexe. Afin de simplifier la fonction de coût, on proposer de régulariser le problème d'apprentissage qui devient:\n",
    "\n",
    "$$\\arg\\max_\\theta  \\mathcal L - \\lambda \\Omega(\\theta), \\qquad \\mbox{avec: } \\Omega(\\theta) = \\left\\{\\begin{array}{cl}\n",
    "\\sum_j \\theta_j^2 & \\mbox{ régularisation } L_2 \\\\\n",
    "\\sum_j |\\theta_j| & \\mbox{ régularisation } L_1 \\\\\n",
    "\\end{array}\n",
    "\\right.$$\n",
    "\n",
    "$\\lambda$ doit être choisi soigneusement sous peine d'aboutir à une solution dégénée (ou non modifiée). La régularisation $L_2$ est plus stable est facile à exploiter, la régularisation $L_1$ est plus complexe et moins stable mais elle permet d'annuler complètement les poids attribués à certains pixels. En effet, dans l'implémentation, nous allons traiter la fonction $\\Omega$ à part de la vraisemblance:\n",
    "Toutes les itérations, nous allons mettre à jour:\n",
    "\n",
    "$$\\mathbf w \\leftarrow \\mathbf w - \\lambda \\left\\{\\begin{array}{cl}\n",
    "\\nabla_{\\mathbf w,b} \\Omega(\\mathbf w,b) = 2\\mathbf w, 2b  & \\mbox{ régularisation } L_2 \\\\\n",
    "\\nabla_{\\mathbf w,b} \\Omega(\\mathbf w,b) = sign(\\mathbf w),sign(b) & \\mbox{ régularisation } L_1 \\\\\n",
    "\\end{array}\n",
    "\\right. $$\n",
    "\n",
    "En interprétant la formule ci-dessus, on se rend compte que ça ramène systématiquement les poids du modèle vers 0: l'idée est donc bien de simplifier le modèle... Seuls les dimensions vraiment intéressantes seront pondérées.\n",
    "\n",
    "**Note:** Par défaut, il n'est pas évident d'améliorer les performances avec la régularisation sur ce problème... C'est néanmoins une procédure très efficace sur la plupart des jeux de données.\n",
    "\n",
    "**Note2:** Les expériences étant un peu chères en temps de calcul, pensez à réduire niter_max pendant le debug"
   ]
  },
  {
   "cell_type": "code",
   "execution_count": 442,
   "metadata": {},
   "outputs": [],
   "source": [
    "def rl_gradient_batch_reg(X,Y, epsilon = 1e-3, niter_max=1000, lam=1e-5):\n",
    "    \"\"\" Fonction de montée de gradient permettant de trouver le paramètre w optimal,\n",
    "        ie le w qui minimise la fonction de coût. Retourne le w optimal ainsi que la liste des\n",
    "        nIterations w calculés\n",
    "        @param X: float array, ensemble des échantillons\n",
    "        @param Y: float array, classes associées à chaque échantillon de X\n",
    "        @param epsilon: float, erreur/bruit/résidu\n",
    "        @param niter_max: int, nombre d'itérations sur w\n",
    "        @param lam: float, paramètre lambda\n",
    "        @return w: float array, w optimal\n",
    "    \"\"\"\n",
    "    N,d = X.shape\n",
    "\n",
    "    # --- ETAPE 0: Initialisation de w à 0\n",
    "    w = np.zeros(d, dtype=float)\n",
    "    \n",
    "    # --- ETAPE 1: Boucle sur w\n",
    "    iter = 0\n",
    "    while iter < niter_max:\n",
    "        Xw = np.dot(X, w)\n",
    "        w_new = w + epsilon * np.dot(X.T, Y - 1/(1 + np.exp(-Xw))) # Calcul du gradient\n",
    "        \n",
    "        if np.max(np.abs(w_new-w)) < 10e-3:\n",
    "            print('Convergence atteinte en', iter, 'itérations.')\n",
    "            break\n",
    "        else:\n",
    "            w = w_new - lam * 2 * w_new\n",
    "            iter += 1\n",
    "    \n",
    "    return w\n",
    "\n",
    "# Soit vous passez des fonctions en arguments, soit il faut redéfinir une nouvelle version de rl_multi\n",
    "# dans le cadre du TP, on prend la seconde option: plus simple mais plus moche\n",
    "def rl_multi_reg(X,Y, epsilon = 1e-3, niter_max=1000, lam=1e-5):\n",
    "    N,d = X.shape\n",
    "    \n",
    "    # --- ETAPE 1: Extraction de toutes les classes de Y, initialisation de W\n",
    "    classes = np.unique(Y)\n",
    "    W = []\n",
    "    \n",
    "    # --- ETAPE 2: Initialiser les poids & lancer un modèle par classe\n",
    "    # dans la boucle for, vous pouvez utiliser : Y_tmp = np.where(Y == c, 1., 0.)\n",
    "    \n",
    "    for c in classes: # Pour chaque classe c\n",
    "        \n",
    "        # Données d'apprentissage\n",
    "        Y_c = np.where(Y == c, 1., 0.)\n",
    "        \n",
    "        W.append(rl_gradient_batch_reg(X, Y_c, epsilon, niter_max, lam))\n",
    "    \n",
    "    # On redimensionne W pour obtenir l'empilement de W voulu:\n",
    "    d = W[0].shape[0]\n",
    "    W_star = W[0].reshape(d,1)\n",
    "    for i in range(1,len(W)):\n",
    "        W_star = np.hstack((W_star, W[i].reshape(d,1)))\n",
    "    \n",
    "    return W_star"
   ]
  },
  {
   "cell_type": "code",
   "execution_count": 440,
   "metadata": {},
   "outputs": [
    {
     "name": "stdout",
     "output_type": "stream",
     "text": [
      "Taille des données : (1389, 256) (1389,)\n",
      "Convergence atteinte en 39 itérations.\n",
      "\n",
      "\n",
      "Taux de bonne classification: \n",
      "\tApp: 0.9820014398848093\n",
      "\tApp: 0.9505494505494505\n"
     ]
    }
   ],
   "source": [
    "# ------- 2. CAS SUR LES CLASSES 2 ET 3, PASSAGE A UN CODAGE EN {0, 1} POUR Y -------\n",
    "\n",
    "cl1 = 2\n",
    "cl2 = 3\n",
    "\n",
    "# Données d'apprentissage\n",
    "X_23 = X[(Y==cl1)|(Y==cl2),:]\n",
    "Y_23 = np.where(Y[(Y==cl1)|(Y==cl2)] == cl1, 1., 0.)\n",
    "\n",
    "# Données de test\n",
    "Xt_23 = Xt[(Yt==cl1)|(Yt==cl2),:]\n",
    "Yt_23 = np.where(Yt[(Yt==cl1)|(Yt==cl2)] == cl1, 1., 0.)\n",
    "\n",
    "print(\"Taille des données :\",X_23.shape,Y_23.shape)\n",
    "\n",
    "\n",
    "# --- Apprentissage du paramètre w* à partir des données d'apprentissage X_23 et Y_23\n",
    "\n",
    "w = rl_gradient_batch_reg(X_23, Y_23, epsilon = 1e-3, niter_max=1000, lam=1e-5)\n",
    "\n",
    "Y23_app, taux_bc_app = taux_BC(X_23, Y_23, w)\n",
    "Y23_test, taux_bc_test = taux_BC(Xt_23, Yt_23, w)\n",
    "\n",
    "print('\\n\\nTaux de bonne classification: ')\n",
    "print('\\tApp:', taux_bc_app)\n",
    "print('\\tApp:', taux_bc_test)"
   ]
  },
  {
   "cell_type": "code",
   "execution_count": 444,
   "metadata": {
    "scrolled": true
   },
   "outputs": [
    {
     "name": "stderr",
     "output_type": "stream",
     "text": [
      "<ipython-input-442-1914a0acb791>:21: RuntimeWarning: overflow encountered in exp\n",
      "  w_new = w + epsilon * np.dot(X.T, Y - 1/(1 + np.exp(-Xw))) # Calcul du gradient\n"
     ]
    },
    {
     "name": "stdout",
     "output_type": "stream",
     "text": [
      "Convergence atteinte en 343 itérations.\n",
      "Convergence atteinte en 94 itérations.\n",
      "Convergence atteinte en 326 itérations.\n",
      "Convergence atteinte en 621 itérations.\n",
      "Convergence atteinte en 119 itérations.\n",
      "Convergence atteinte en 132 itérations.\n",
      "Convergence atteinte en 159 itérations.\n"
     ]
    }
   ],
   "source": [
    "# duree execution = 30 secondes\n",
    "# n'hésitez pas à mettre un niter_max à 10 durant la phase de debug pour gagner du temps !\n",
    "W = rl_multi_reg(X,Y)"
   ]
  },
  {
   "cell_type": "code",
   "execution_count": 460,
   "metadata": {},
   "outputs": [
    {
     "data": {
      "text/plain": [
       "array([[ 1.09589038,  1.08604774,  1.47070155, ...,  1.03872529,\n",
       "         0.78178145,  0.19918765],\n",
       "       [ 1.08604774,  2.21450893,  3.5461807 , ...,  1.08257772,\n",
       "         0.43244993, -0.10586156],\n",
       "       [ 1.47070155,  3.5461807 ,  6.99660473, ...,  5.56215567,\n",
       "         1.87426095,  0.11849351],\n",
       "       ...,\n",
       "       [ 1.03872529,  1.08257772,  5.56215567, ..., 17.10139563,\n",
       "         6.03990145,  1.60685937],\n",
       "       [ 0.78178145,  0.43244993,  1.87426095, ...,  6.03990145,\n",
       "         3.6190833 ,  0.96057487],\n",
       "       [ 0.19918765, -0.10586156,  0.11849351, ...,  1.60685937,\n",
       "         0.96057487,  0.32150998]])"
      ]
     },
     "execution_count": 460,
     "metadata": {},
     "output_type": "execute_result"
    }
   ],
   "source": [
    "np.dot(W,W.T)"
   ]
  },
  {
   "cell_type": "code",
   "execution_count": 454,
   "metadata": {},
   "outputs": [
    {
     "ename": "ValueError",
     "evalue": "operands could not be broadcast together with shapes (2007,10) (256,) ",
     "output_type": "error",
     "traceback": [
      "\u001b[1;31m---------------------------------------------------------------------------\u001b[0m",
      "\u001b[1;31mValueError\u001b[0m                                Traceback (most recent call last)",
      "\u001b[1;32m<ipython-input-454-8aad13f051a4>\u001b[0m in \u001b[0;36m<module>\u001b[1;34m\u001b[0m\n\u001b[0;32m      5\u001b[0m \u001b[1;31m# perf:\u001b[0m\u001b[1;33m\u001b[0m\u001b[1;33m\u001b[0m\u001b[1;33m\u001b[0m\u001b[0m\n\u001b[0;32m      6\u001b[0m \u001b[0mY_pred\u001b[0m  \u001b[1;33m=\u001b[0m \u001b[0mnp\u001b[0m\u001b[1;33m.\u001b[0m\u001b[0margmax\u001b[0m\u001b[1;33m(\u001b[0m\u001b[1;36m1\u001b[0m\u001b[1;33m/\u001b[0m\u001b[1;33m(\u001b[0m\u001b[1;36m1\u001b[0m\u001b[1;33m+\u001b[0m\u001b[0mnp\u001b[0m\u001b[1;33m.\u001b[0m\u001b[0mexp\u001b[0m\u001b[1;33m(\u001b[0m\u001b[1;33m-\u001b[0m\u001b[0mX\u001b[0m\u001b[1;33m@\u001b[0m\u001b[0mW\u001b[0m\u001b[1;33m)\u001b[0m\u001b[1;33m)\u001b[0m \u001b[1;33m-\u001b[0m \u001b[0mlam\u001b[0m \u001b[1;33m*\u001b[0m \u001b[0mnp\u001b[0m\u001b[1;33m.\u001b[0m\u001b[0msum\u001b[0m\u001b[1;33m(\u001b[0m\u001b[0mnp\u001b[0m\u001b[1;33m.\u001b[0m\u001b[0mdot\u001b[0m\u001b[1;33m(\u001b[0m\u001b[0mW\u001b[0m\u001b[1;33m,\u001b[0m\u001b[0mW\u001b[0m\u001b[1;33m.\u001b[0m\u001b[0mT\u001b[0m\u001b[1;33m)\u001b[0m\u001b[1;33m)\u001b[0m\u001b[1;33m,\u001b[0m\u001b[1;36m1\u001b[0m\u001b[1;33m)\u001b[0m\u001b[1;33m\u001b[0m\u001b[1;33m\u001b[0m\u001b[0m\n\u001b[1;32m----> 7\u001b[1;33m \u001b[0mYt_pred\u001b[0m \u001b[1;33m=\u001b[0m \u001b[0mnp\u001b[0m\u001b[1;33m.\u001b[0m\u001b[0margmax\u001b[0m\u001b[1;33m(\u001b[0m\u001b[1;36m1\u001b[0m\u001b[1;33m/\u001b[0m\u001b[1;33m(\u001b[0m\u001b[1;36m1\u001b[0m\u001b[1;33m+\u001b[0m\u001b[0mnp\u001b[0m\u001b[1;33m.\u001b[0m\u001b[0mexp\u001b[0m\u001b[1;33m(\u001b[0m\u001b[1;33m-\u001b[0m\u001b[0mXt\u001b[0m\u001b[1;33m@\u001b[0m\u001b[0mW\u001b[0m\u001b[1;33m)\u001b[0m\u001b[1;33m)\u001b[0m \u001b[1;33m-\u001b[0m \u001b[0mlam\u001b[0m \u001b[1;33m*\u001b[0m \u001b[0mnp\u001b[0m\u001b[1;33m.\u001b[0m\u001b[0msum\u001b[0m\u001b[1;33m(\u001b[0m\u001b[0mnp\u001b[0m\u001b[1;33m.\u001b[0m\u001b[0mdot\u001b[0m\u001b[1;33m(\u001b[0m\u001b[0mW\u001b[0m\u001b[1;33m,\u001b[0m\u001b[0mW\u001b[0m\u001b[1;33m.\u001b[0m\u001b[0mT\u001b[0m\u001b[1;33m)\u001b[0m\u001b[1;33m,\u001b[0m\u001b[1;36m1\u001b[0m\u001b[1;33m)\u001b[0m\u001b[1;33m)\u001b[0m\u001b[1;33m\u001b[0m\u001b[1;33m\u001b[0m\u001b[0m\n\u001b[0m\u001b[0;32m      8\u001b[0m \u001b[1;31m# print(Yt[:20],\"\\n\",Yt_pred[:20])\u001b[0m\u001b[1;33m\u001b[0m\u001b[1;33m\u001b[0m\u001b[1;33m\u001b[0m\u001b[0m\n\u001b[0;32m      9\u001b[0m \u001b[1;33m\u001b[0m\u001b[0m\n",
      "\u001b[1;31mValueError\u001b[0m: operands could not be broadcast together with shapes (2007,10) (256,) "
     ]
    }
   ],
   "source": [
    "# Evaluation des performances\n",
    "\n",
    "lam=1e-5\n",
    "\n",
    "# perf:\n",
    "Y_pred  = np.argmax(1/(1+np.exp(-X@W)) - lam * np.sum(np.dot(W,W.T)),1)\n",
    "Yt_pred = np.argmax(1/(1+np.exp(-Xt@W)) - lam * np.sum(np.dot(W,W.T),1))\n",
    "# print(Yt[:20],\"\\n\",Yt_pred[:20])\n",
    "\n",
    "pc_good   = np.where(Y_pred == Y , 1., 0.).mean()\n",
    "pc_good_t = np.where(Yt_pred==Yt , 1., 0.).mean()\n",
    "\n",
    "print(\"App : \",pc_good)\n",
    "print(\"Test : \",pc_good_t)"
   ]
  },
  {
   "attachments": {
    "CurseDim.png": {
     "image/png": "[encoded data removed]"
    }
   },
   "cell_type": "markdown",
   "metadata": {},
   "source": [
    "## Exercice 6: Malédiction de la dimensionnalité\n",
    "\n",
    "Nous vous proposons ici de modifier les données pour ajouter des colonnes de bruit. Montrer que la performances se réduit lorsque l'on augmente le nombre de dimensions fantomes.\n",
    "\n",
    "- la fonction d'ajout des données fantomes est fournie\n",
    "- faites la boucle avec des ajouts de $[0,100,150,200,250]$ colonnes et tracer l'évolution des performances en apprentissage et en test.\n",
    "    - Attention: il faut donc modifier $X$ et $Xt$ avec le même nombre de colonne fantome\n",
    "    \n",
    "**Note:** les expériences sont couteuses, encore une fois, limitez niter_max ou faites les calculs sur un serveur distant (3 minutes en limitant à 300 itérations)... <BR>\n",
    "Attention, le fait de limiter les itérations est une forme de régularisation (appelée *early stopping*): s'il n'y a pas assez d'itération, on ne voit pas les effets pervers de la dimensionnalité des données!\n",
    "\n",
    "**Note 2:** Evidemment, c'est dans ce cas de figure -qui correspond à beaucoup d'applications réelles- que la régularisation va aider.\n",
    "\n",
    "Avec 300 itérations, vous obtenez:\n",
    "![CurseDim.png](attachment:CurseDim.png)"
   ]
  },
  {
   "cell_type": "code",
   "execution_count": null,
   "metadata": {},
   "outputs": [],
   "source": [
    "# On ajoute du bruit (et on enlève 1) \n",
    "# ATTENTION : ne pas enlever une seconde fois 1 ensuite !\n",
    "def ajout_colonne_randn(X,d, sig = 1.):\n",
    "    return np.hstack((X-1, np.random.randn(len(X),d)*sig))"
   ]
  },
  {
   "cell_type": "code",
   "execution_count": null,
   "metadata": {},
   "outputs": [],
   "source": [
    "dnoise    = np.array([0,100,150,200,250])\n",
    "perf_app  = np.zeros(len(dnoise))\n",
    "perf_test = np.zeros(len(dnoise))\n",
    "\n",
    "for i,d in enumerate(dnoise):\n",
    "    #TODO\n",
    "    perf_app[i]   = np.where(Y_pred == Y , 1., 0.).mean()\n",
    "    perf_test[i]  = np.where(Yt_pred==Yt , 1., 0.).mean()"
   ]
  },
  {
   "cell_type": "code",
   "execution_count": null,
   "metadata": {},
   "outputs": [],
   "source": [
    "plt.figure()\n",
    "plt.plot(dnoise,perf_app, 'r')\n",
    "plt.plot(dnoise,perf_test, 'b')\n",
    "plt.legend(['App','Test'])\n",
    "plt.grid()\n",
    "plt.savefig('CurseDim.png')"
   ]
  },
  {
   "cell_type": "markdown",
   "metadata": {},
   "source": [
    "## Exercice 7: et par rapport aux méthodes discriminantes à base de fonctions de cout?\n",
    "\n",
    "Tester l'algorithme du perceptron vu en cours, avec l'astuce du un-contre-tous pour le passage au multi-classes.\n",
    "Attention, pour le perceptron, le codage des deux classes est en $\\{-1, 1\\}$"
   ]
  },
  {
   "cell_type": "code",
   "execution_count": null,
   "metadata": {},
   "outputs": [],
   "source": []
  }
 ],
 "metadata": {
  "kernelspec": {
   "display_name": "Python 3",
   "language": "python",
   "name": "python3"
  },
  "language_info": {
   "codemirror_mode": {
    "name": "ipython",
    "version": 3
   },
   "file_extension": ".py",
   "mimetype": "text/x-python",
   "name": "python",
   "nbconvert_exporter": "python",
   "pygments_lexer": "ipython3",
   "version": "3.8.3"
  }
 },
 "nbformat": 4,
 "nbformat_minor": 2
}
